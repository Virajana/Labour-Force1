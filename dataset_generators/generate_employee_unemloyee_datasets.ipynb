{
 "cells": [
  {
   "cell_type": "code",
   "execution_count": 3,
   "metadata": {},
   "outputs": [],
   "source": [
    "import pandas as pd\n",
    "import numpy as np"
   ]
  },
  {
   "cell_type": "code",
   "execution_count": 4,
   "metadata": {},
   "outputs": [],
   "source": [
    "# read CSV file from the 'data' subdirectory using a relative path\n",
    "df = pd.read_csv('../data/LFS-1997-100%-Data.csv', index_col=0)\n",
    "# display the first 5 rows\n",
    "workarr =np.array(df[\"Q38_THIS_PERSON_WAS\"])\n",
    "employee=[]\n",
    "unemployee=[]\n",
    "columns=[]\n",
    "for col in df:\n",
    "    columns.append(col)"
   ]
  },
  {
   "cell_type": "code",
   "execution_count": 5,
   "metadata": {},
   "outputs": [],
   "source": [
    "columns.insert(0,'YEAR')\n",
    "arrlst = df.values.tolist()\n",
    "for i in range(len(df)):\n",
    "    arrlst[i].insert(0,'1997')\n",
    "\n",
    "    if(workarr[i]=='1'):\n",
    "        employee.append(arrlst[i])\n",
    "    elif(workarr[i]=='2'):\n",
    "        unemployee.append(arrlst[i])\n",
    "    elif(workarr[i]=='3'):\n",
    "        arrlst[i][80]='2'\n",
    "        unemployee.append(arrlst[i])     "
   ]
  },
  {
   "cell_type": "code",
   "execution_count": 6,
   "metadata": {},
   "outputs": [],
   "source": [
    "employeeDataframe = pd.DataFrame(employee,columns=columns)\n",
    "unemployeeDataframe = pd.DataFrame(unemployee,columns=columns)\n",
    "\n",
    "employeeDataframe.to_csv('../data/under_employee_1997.csv',index=False)\n",
    "unemployeeDataframe.to_csv('../data/unemployee_1997.csv',index=False)"
   ]
  },
  {
   "cell_type": "code",
   "execution_count": null,
   "metadata": {},
   "outputs": [],
   "source": []
  }
 ],
 "metadata": {
  "kernelspec": {
   "display_name": "Python 3",
   "language": "python",
   "name": "python3"
  },
  "language_info": {
   "codemirror_mode": {
    "name": "ipython",
    "version": 3
   },
   "file_extension": ".py",
   "mimetype": "text/x-python",
   "name": "python",
   "nbconvert_exporter": "python",
   "pygments_lexer": "ipython3",
   "version": "3.7.3"
  },
  "pycharm": {
   "stem_cell": {
    "cell_type": "raw",
    "metadata": {
     "collapsed": false
    },
    "source": []
   }
  }
 },
 "nbformat": 4,
 "nbformat_minor": 2
}
