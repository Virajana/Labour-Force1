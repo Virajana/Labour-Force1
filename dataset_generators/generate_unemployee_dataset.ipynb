{
 "cells": [
  {
   "cell_type": "code",
   "execution_count": 1,
   "metadata": {},
   "outputs": [],
   "source": [
    "import pandas as pd"
   ]
  },
  {
   "cell_type": "code",
   "execution_count": 2,
   "metadata": {},
   "outputs": [],
   "source": [
    "feature_arrs = []\n",
    "response_arrs = []"
   ]
  },
  {
   "cell_type": "code",
   "execution_count": 3,
   "metadata": {},
   "outputs": [],
   "source": [
    "import os\n",
    "for i in os.listdir('../data/raw_data'):\n",
    "    df = pd.read_csv('../data/raw_data/'+i)\n",
    "    \n",
    "    age_arr = list(df.P5Y)\n",
    "    year_arr = list(df.YEAR)\n",
    "    district_arr = list(df.DISTRICT)\n",
    "    gender_arr = list(df.P4)\n",
    "    inflation_factor = list(df.Annualfac)\n",
    "    employeeness_arr = list(df.Q4)\n",
    "    \n",
    "    for i in range(len(age_arr)):\n",
    "        age_val = str(age_arr[i])\n",
    "        year_val = year_arr[i]\n",
    "        district_val = district_arr[i]\n",
    "        gender_val = gender_arr[i]\n",
    "        age_cat_val = 1\n",
    "        \n",
    "        if(age_val>'60'):\n",
    "            age_cat_val = 3\n",
    "        elif(age_val>'15'):\n",
    "            age_cat_val = 2\n",
    "        else:\n",
    "            age_cat_val = 1\n",
    "\n",
    "        count_val = inflation_factor[i]\n",
    "\n",
    "        feature_arr = [year_val, district_val, age_cat_val, gender_val]\n",
    "        response_arr = count_val\n",
    "        \n",
    "        if(str(employeeness_arr[i])=='2'):\n",
    "            if(feature_arr not in feature_arrs):\n",
    "                feature_arrs.append(feature_arr)\n",
    "                response_arrs.append(response_arr)\n",
    "            else:\n",
    "                feature_arr_index = feature_arrs.index(feature_arr)\n",
    "                old_count_val = response_arrs[feature_arr_index]\n",
    "                new_count_val = old_count_val + count_val\n",
    "                response_arr = new_count_val\n",
    "                response_arrs[feature_arr_index] = response_arr\n",
    "\n",
    "# print(feature_arrs)\n",
    "# print(response_arrs)"
   ]
  },
  {
   "cell_type": "code",
   "execution_count": 4,
   "metadata": {},
   "outputs": [],
   "source": [
    "new_df = pd.DataFrame(feature_arrs, columns = ['YEAR', 'DISTRICT', 'AGE_CAT', 'GENDER']) "
   ]
  },
  {
   "cell_type": "code",
   "execution_count": 5,
   "metadata": {},
   "outputs": [],
   "source": [
    "new_df['COUNT'] = response_arrs"
   ]
  },
  {
   "cell_type": "code",
   "execution_count": 6,
   "metadata": {},
   "outputs": [
    {
     "data": {
      "text/html": [
       "<div>\n",
       "<style scoped>\n",
       "    .dataframe tbody tr th:only-of-type {\n",
       "        vertical-align: middle;\n",
       "    }\n",
       "\n",
       "    .dataframe tbody tr th {\n",
       "        vertical-align: top;\n",
       "    }\n",
       "\n",
       "    .dataframe thead th {\n",
       "        text-align: right;\n",
       "    }\n",
       "</style>\n",
       "<table border=\"1\" class=\"dataframe\">\n",
       "  <thead>\n",
       "    <tr style=\"text-align: right;\">\n",
       "      <th></th>\n",
       "      <th>YEAR</th>\n",
       "      <th>DISTRICT</th>\n",
       "      <th>AGE_CAT</th>\n",
       "      <th>GENDER</th>\n",
       "      <th>COUNT</th>\n",
       "    </tr>\n",
       "  </thead>\n",
       "  <tbody>\n",
       "    <tr>\n",
       "      <th>0</th>\n",
       "      <td>2016</td>\n",
       "      <td>11</td>\n",
       "      <td>3</td>\n",
       "      <td>2</td>\n",
       "      <td>374676.263469</td>\n",
       "    </tr>\n",
       "    <tr>\n",
       "      <th>1</th>\n",
       "      <td>2016</td>\n",
       "      <td>11</td>\n",
       "      <td>2</td>\n",
       "      <td>2</td>\n",
       "      <td>244321.305653</td>\n",
       "    </tr>\n",
       "    <tr>\n",
       "      <th>2</th>\n",
       "      <td>2016</td>\n",
       "      <td>11</td>\n",
       "      <td>2</td>\n",
       "      <td>1</td>\n",
       "      <td>117651.917843</td>\n",
       "    </tr>\n",
       "    <tr>\n",
       "      <th>3</th>\n",
       "      <td>2016</td>\n",
       "      <td>11</td>\n",
       "      <td>3</td>\n",
       "      <td>1</td>\n",
       "      <td>94013.832521</td>\n",
       "    </tr>\n",
       "    <tr>\n",
       "      <th>4</th>\n",
       "      <td>2016</td>\n",
       "      <td>11</td>\n",
       "      <td>1</td>\n",
       "      <td>2</td>\n",
       "      <td>26409.896631</td>\n",
       "    </tr>\n",
       "  </tbody>\n",
       "</table>\n",
       "</div>"
      ],
      "text/plain": [
       "   YEAR  DISTRICT  AGE_CAT  GENDER          COUNT\n",
       "0  2016        11        3       2  374676.263469\n",
       "1  2016        11        2       2  244321.305653\n",
       "2  2016        11        2       1  117651.917843\n",
       "3  2016        11        3       1   94013.832521\n",
       "4  2016        11        1       2   26409.896631"
      ]
     },
     "execution_count": 6,
     "metadata": {},
     "output_type": "execute_result"
    }
   ],
   "source": [
    "new_df.head()"
   ]
  },
  {
   "cell_type": "code",
   "execution_count": 7,
   "metadata": {},
   "outputs": [
    {
     "data": {
      "text/html": [
       "<div>\n",
       "<style scoped>\n",
       "    .dataframe tbody tr th:only-of-type {\n",
       "        vertical-align: middle;\n",
       "    }\n",
       "\n",
       "    .dataframe tbody tr th {\n",
       "        vertical-align: top;\n",
       "    }\n",
       "\n",
       "    .dataframe thead th {\n",
       "        text-align: right;\n",
       "    }\n",
       "</style>\n",
       "<table border=\"1\" class=\"dataframe\">\n",
       "  <thead>\n",
       "    <tr style=\"text-align: right;\">\n",
       "      <th></th>\n",
       "      <th>YEAR</th>\n",
       "      <th>DISTRICT</th>\n",
       "      <th>AGE_CAT</th>\n",
       "      <th>GENDER</th>\n",
       "      <th>COUNT</th>\n",
       "    </tr>\n",
       "  </thead>\n",
       "  <tbody>\n",
       "    <tr>\n",
       "      <th>295</th>\n",
       "      <td>2017</td>\n",
       "      <td>92</td>\n",
       "      <td>3</td>\n",
       "      <td>1</td>\n",
       "      <td>34531.232434</td>\n",
       "    </tr>\n",
       "    <tr>\n",
       "      <th>296</th>\n",
       "      <td>2017</td>\n",
       "      <td>92</td>\n",
       "      <td>3</td>\n",
       "      <td>2</td>\n",
       "      <td>128322.260659</td>\n",
       "    </tr>\n",
       "    <tr>\n",
       "      <th>297</th>\n",
       "      <td>2017</td>\n",
       "      <td>92</td>\n",
       "      <td>1</td>\n",
       "      <td>2</td>\n",
       "      <td>14152.744811</td>\n",
       "    </tr>\n",
       "    <tr>\n",
       "      <th>298</th>\n",
       "      <td>2017</td>\n",
       "      <td>92</td>\n",
       "      <td>2</td>\n",
       "      <td>1</td>\n",
       "      <td>38234.902209</td>\n",
       "    </tr>\n",
       "    <tr>\n",
       "      <th>299</th>\n",
       "      <td>2017</td>\n",
       "      <td>92</td>\n",
       "      <td>1</td>\n",
       "      <td>1</td>\n",
       "      <td>13967.465039</td>\n",
       "    </tr>\n",
       "  </tbody>\n",
       "</table>\n",
       "</div>"
      ],
      "text/plain": [
       "     YEAR  DISTRICT  AGE_CAT  GENDER          COUNT\n",
       "295  2017        92        3       1   34531.232434\n",
       "296  2017        92        3       2  128322.260659\n",
       "297  2017        92        1       2   14152.744811\n",
       "298  2017        92        2       1   38234.902209\n",
       "299  2017        92        1       1   13967.465039"
      ]
     },
     "execution_count": 7,
     "metadata": {},
     "output_type": "execute_result"
    }
   ],
   "source": [
    "new_df.tail()"
   ]
  },
  {
   "cell_type": "code",
   "execution_count": 8,
   "metadata": {},
   "outputs": [],
   "source": [
    "new_df.to_csv('../data/unemployee.csv', index=False)"
   ]
  }
 ],
 "metadata": {
  "kernelspec": {
   "display_name": "Python 3",
   "language": "python",
   "name": "python3"
  },
  "language_info": {
   "codemirror_mode": {
    "name": "ipython",
    "version": 3
   },
   "file_extension": ".py",
   "mimetype": "text/x-python",
   "name": "python",
   "nbconvert_exporter": "python",
   "pygments_lexer": "ipython3",
   "version": "3.7.3"
  }
 },
 "nbformat": 4,
 "nbformat_minor": 2
}
