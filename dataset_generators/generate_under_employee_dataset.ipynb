{
 "cells": [
  {
   "cell_type": "code",
   "execution_count": 1,
   "metadata": {},
   "outputs": [],
   "source": [
    "import pandas as pd"
   ]
  },
  {
   "cell_type": "code",
   "execution_count": 2,
   "metadata": {},
   "outputs": [],
   "source": [
    "feature_arrs = []\n",
    "response_arrs = []"
   ]
  },
  {
   "cell_type": "code",
   "execution_count": 3,
   "metadata": {},
   "outputs": [
    {
     "name": "stderr",
     "output_type": "stream",
     "text": [
      "/home/asitha/anaconda3/lib/python3.7/site-packages/IPython/core/interactiveshell.py:3057: DtypeWarning: Columns (21) have mixed types. Specify dtype option on import or set low_memory=False.\n",
      "  interactivity=interactivity, compiler=compiler, result=result)\n",
      "/home/asitha/anaconda3/lib/python3.7/site-packages/IPython/core/interactiveshell.py:3057: DtypeWarning: Columns (0,1,2,3,4,5,7,19,20,21,22,23,24,25,26,87) have mixed types. Specify dtype option on import or set low_memory=False.\n",
      "  interactivity=interactivity, compiler=compiler, result=result)\n",
      "/home/asitha/anaconda3/lib/python3.7/site-packages/IPython/core/interactiveshell.py:3057: DtypeWarning: Columns (13,14,15,22) have mixed types. Specify dtype option on import or set low_memory=False.\n",
      "  interactivity=interactivity, compiler=compiler, result=result)\n"
     ]
    }
   ],
   "source": [
    "import os\n",
    "for i in os.listdir('../data/raw_data'):\n",
    "    df = pd.read_csv('../data/raw_data/'+i)\n",
    "    \n",
    "    age_arr = list(df.P5Y)\n",
    "    year_arr = list(df.YEAR)\n",
    "    district_arr = list(df.DISTRICT)\n",
    "    gender_arr = list(df.P4)\n",
    "    inflation_factor = list(df.Annualfac)\n",
    "    employeeness_arr = list(df.Q4)\n",
    "    \n",
    "    for i in range(len(age_arr)):\n",
    "        age_val = age_arr[i]\n",
    "        if(isinstance(age_val, str)):\n",
    "            age_val = age_val.strip()\n",
    "            if(len(age_val)==0 or not isinstance(age_val, float)):\n",
    "                continue\n",
    "            age_val = float(age_val)\n",
    "        \n",
    "        age_cat_val = 1\n",
    "        \n",
    "        if(age_val>60):\n",
    "            age_cat_val = 3\n",
    "        elif(age_val>15):\n",
    "            age_cat_val = 2\n",
    "        else:\n",
    "            age_cat_val = 1\n",
    "        \n",
    "        year_val = year_arr[i]\n",
    "        \n",
    "        district_val = district_arr[i]\n",
    "        \n",
    "        gender_val = gender_arr[i]\n",
    "        if(isinstance(gender_val, str)):\n",
    "            gender_val = gender_val.strip()\n",
    "            if(not len(gender_val)==0):\n",
    "                gender_val = int(gender_val)\n",
    "                \n",
    "                if(not (gender_val==1 or gender_val==2)):\n",
    "                    continue\n",
    "\n",
    "        count_val = inflation_factor[i]\n",
    "        if(isinstance(count_val, str)):\n",
    "            temp_val = count_val.strip()\n",
    "            if(len(temp_val)==0 or not isinstance(temp_val, float)):\n",
    "                continue\n",
    "            count_val = float(inflation_factor[i].strip())\n",
    "        \n",
    "        feature_arr = [year_val, district_val, age_cat_val, gender_val]\n",
    "        response_arr = count_val\n",
    "        \n",
    "        if(str(employeeness_arr[i])=='1'):\n",
    "            if(feature_arr not in feature_arrs):\n",
    "                feature_arrs.append(feature_arr)\n",
    "                response_arrs.append(response_arr)\n",
    "            else:\n",
    "                feature_arr_index = feature_arrs.index(feature_arr)\n",
    "                old_count_val = response_arrs[feature_arr_index]\n",
    "                new_count_val = old_count_val + count_val\n",
    "                response_arr = new_count_val\n",
    "                response_arrs[feature_arr_index] = response_arr\n",
    "\n",
    "# print(feature_arrs)\n",
    "# print(response_arrs)"
   ]
  },
  {
   "cell_type": "code",
   "execution_count": 4,
   "metadata": {},
   "outputs": [],
   "source": [
    "new_df = pd.DataFrame(feature_arrs, columns = ['YEAR', 'DISTRICT', 'AGE_CAT', 'GENDER']) "
   ]
  },
  {
   "cell_type": "code",
   "execution_count": 5,
   "metadata": {},
   "outputs": [],
   "source": [
    "new_df['COUNT'] = response_arrs"
   ]
  },
  {
   "cell_type": "code",
   "execution_count": 6,
   "metadata": {},
   "outputs": [
    {
     "data": {
      "text/html": [
       "<div>\n",
       "<style scoped>\n",
       "    .dataframe tbody tr th:only-of-type {\n",
       "        vertical-align: middle;\n",
       "    }\n",
       "\n",
       "    .dataframe tbody tr th {\n",
       "        vertical-align: top;\n",
       "    }\n",
       "\n",
       "    .dataframe thead th {\n",
       "        text-align: right;\n",
       "    }\n",
       "</style>\n",
       "<table border=\"1\" class=\"dataframe\">\n",
       "  <thead>\n",
       "    <tr style=\"text-align: right;\">\n",
       "      <th></th>\n",
       "      <th>YEAR</th>\n",
       "      <th>DISTRICT</th>\n",
       "      <th>AGE_CAT</th>\n",
       "      <th>GENDER</th>\n",
       "      <th>COUNT</th>\n",
       "    </tr>\n",
       "  </thead>\n",
       "  <tbody>\n",
       "    <tr>\n",
       "      <th>0</th>\n",
       "      <td>2008</td>\n",
       "      <td>11</td>\n",
       "      <td>2</td>\n",
       "      <td>2</td>\n",
       "      <td>16707.167113</td>\n",
       "    </tr>\n",
       "    <tr>\n",
       "      <th>1</th>\n",
       "      <td>2008</td>\n",
       "      <td>11</td>\n",
       "      <td>1</td>\n",
       "      <td>1</td>\n",
       "      <td>6194.798675</td>\n",
       "    </tr>\n",
       "    <tr>\n",
       "      <th>2</th>\n",
       "      <td>2008</td>\n",
       "      <td>11</td>\n",
       "      <td>1</td>\n",
       "      <td>2</td>\n",
       "      <td>8587.482721</td>\n",
       "    </tr>\n",
       "    <tr>\n",
       "      <th>3</th>\n",
       "      <td>2008</td>\n",
       "      <td>12</td>\n",
       "      <td>2</td>\n",
       "      <td>2</td>\n",
       "      <td>19420.847473</td>\n",
       "    </tr>\n",
       "    <tr>\n",
       "      <th>4</th>\n",
       "      <td>2008</td>\n",
       "      <td>12</td>\n",
       "      <td>1</td>\n",
       "      <td>1</td>\n",
       "      <td>4889.870235</td>\n",
       "    </tr>\n",
       "  </tbody>\n",
       "</table>\n",
       "</div>"
      ],
      "text/plain": [
       "   YEAR  DISTRICT  AGE_CAT  GENDER         COUNT\n",
       "0  2008        11        2       2  16707.167113\n",
       "1  2008        11        1       1   6194.798675\n",
       "2  2008        11        1       2   8587.482721\n",
       "3  2008        12        2       2  19420.847473\n",
       "4  2008        12        1       1   4889.870235"
      ]
     },
     "execution_count": 6,
     "metadata": {},
     "output_type": "execute_result"
    }
   ],
   "source": [
    "new_df.head()"
   ]
  },
  {
   "cell_type": "code",
   "execution_count": 7,
   "metadata": {},
   "outputs": [
    {
     "data": {
      "text/html": [
       "<div>\n",
       "<style scoped>\n",
       "    .dataframe tbody tr th:only-of-type {\n",
       "        vertical-align: middle;\n",
       "    }\n",
       "\n",
       "    .dataframe tbody tr th {\n",
       "        vertical-align: top;\n",
       "    }\n",
       "\n",
       "    .dataframe thead th {\n",
       "        text-align: right;\n",
       "    }\n",
       "</style>\n",
       "<table border=\"1\" class=\"dataframe\">\n",
       "  <thead>\n",
       "    <tr style=\"text-align: right;\">\n",
       "      <th></th>\n",
       "      <th>YEAR</th>\n",
       "      <th>DISTRICT</th>\n",
       "      <th>AGE_CAT</th>\n",
       "      <th>GENDER</th>\n",
       "      <th>COUNT</th>\n",
       "    </tr>\n",
       "  </thead>\n",
       "  <tbody>\n",
       "    <tr>\n",
       "      <th>795</th>\n",
       "      <td>2006</td>\n",
       "      <td>22</td>\n",
       "      <td>1</td>\n",
       "      <td>2</td>\n",
       "      <td>1322.450794</td>\n",
       "    </tr>\n",
       "    <tr>\n",
       "      <th>796</th>\n",
       "      <td>2006</td>\n",
       "      <td>33</td>\n",
       "      <td>3</td>\n",
       "      <td>1</td>\n",
       "      <td>732.963625</td>\n",
       "    </tr>\n",
       "    <tr>\n",
       "      <th>797</th>\n",
       "      <td>2006</td>\n",
       "      <td>82</td>\n",
       "      <td>3</td>\n",
       "      <td>1</td>\n",
       "      <td>299.046257</td>\n",
       "    </tr>\n",
       "    <tr>\n",
       "      <th>798</th>\n",
       "      <td>2006</td>\n",
       "      <td>23</td>\n",
       "      <td>3</td>\n",
       "      <td>1</td>\n",
       "      <td>208.907160</td>\n",
       "    </tr>\n",
       "    <tr>\n",
       "      <th>799</th>\n",
       "      <td>2006</td>\n",
       "      <td>82</td>\n",
       "      <td>3</td>\n",
       "      <td>2</td>\n",
       "      <td>286.113528</td>\n",
       "    </tr>\n",
       "  </tbody>\n",
       "</table>\n",
       "</div>"
      ],
      "text/plain": [
       "     YEAR  DISTRICT  AGE_CAT  GENDER        COUNT\n",
       "795  2006        22        1       2  1322.450794\n",
       "796  2006        33        3       1   732.963625\n",
       "797  2006        82        3       1   299.046257\n",
       "798  2006        23        3       1   208.907160\n",
       "799  2006        82        3       2   286.113528"
      ]
     },
     "execution_count": 7,
     "metadata": {},
     "output_type": "execute_result"
    }
   ],
   "source": [
    "new_df.tail()"
   ]
  },
  {
   "cell_type": "code",
   "execution_count": 8,
   "metadata": {},
   "outputs": [],
   "source": [
    "new_df.to_csv('../data/under_employee.csv', index=False)"
   ]
  }
 ],
 "metadata": {
  "kernelspec": {
   "display_name": "Python 3",
   "language": "python",
   "name": "python3"
  },
  "language_info": {
   "codemirror_mode": {
    "name": "ipython",
    "version": 3
   },
   "file_extension": ".py",
   "mimetype": "text/x-python",
   "name": "python",
   "nbconvert_exporter": "python",
   "pygments_lexer": "ipython3",
   "version": "3.7.3"
  }
 },
 "nbformat": 4,
 "nbformat_minor": 2
}
