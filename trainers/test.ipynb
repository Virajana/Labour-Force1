{
 "cells": [
  {
   "cell_type": "code",
   "execution_count": 8,
   "metadata": {},
   "outputs": [],
   "source": [
    "import pickle\n",
    "from sklearn.base import TransformerMixin\n",
    "from sklearn.datasets import make_regression\n",
    "from sklearn.pipeline import Pipeline, FeatureUnion\n",
    "from sklearn.model_selection import train_test_split\n",
    "from sklearn.tree import DecisionTreeRegressor\n",
    "from sklearn.neighbors import KNeighborsRegressor\n",
    "from sklearn.preprocessing import StandardScaler, PolynomialFeatures\n",
    "from sklearn.linear_model import LinearRegression, Ridge"
   ]
  },
  {
   "cell_type": "code",
   "execution_count": 9,
   "metadata": {},
   "outputs": [],
   "source": [
    "class RidgeTransformer(Ridge, TransformerMixin):\n",
    "    \n",
    "    def transform(self, X, *_):\n",
    "        return self.predict(X).reshape(-1,1)\n",
    "    \n",
    "class DecisionTreeTransformer(DecisionTreeRegressor, TransformerMixin):\n",
    "    \n",
    "    def transform(self, X, *_):\n",
    "        return self.predict(X).reshape(-1,1)\n",
    "\n",
    "\n",
    "class KNeighborsTransformer(KNeighborsRegressor, TransformerMixin):\n",
    "    \n",
    "    def transform(self, X, *_):\n",
    "        return self.predict(X).reshape(-1,1)"
   ]
  },
  {
   "cell_type": "code",
   "execution_count": 10,
   "metadata": {},
   "outputs": [
    {
     "name": "stdout",
     "output_type": "stream",
     "text": [
      "Build and fit a model...\n"
     ]
    },
    {
     "ename": "ImportError",
     "evalue": "cannot import name 'RidgeTransformer' from 'test' (/home/asitha/anaconda3/lib/python3.7/test/__init__.py)",
     "output_type": "error",
     "traceback": [
      "\u001b[0;31m---------------------------------------------------------------------------\u001b[0m",
      "\u001b[0;31mImportError\u001b[0m                               Traceback (most recent call last)",
      "\u001b[0;32m<ipython-input-10-e95b1284a193>\u001b[0m in \u001b[0;36m<module>\u001b[0;34m\u001b[0m\n\u001b[1;32m     10\u001b[0m         \u001b[0;32mfrom\u001b[0m \u001b[0msklearn\u001b[0m\u001b[0;34m.\u001b[0m\u001b[0mpreprocessing\u001b[0m \u001b[0;32mimport\u001b[0m \u001b[0mLabelEncoder\u001b[0m\u001b[0;34m\u001b[0m\u001b[0;34m\u001b[0m\u001b[0m\n\u001b[1;32m     11\u001b[0m         \u001b[0;32mfrom\u001b[0m \u001b[0msklearn\u001b[0m\u001b[0;34m.\u001b[0m\u001b[0mmodel_selection\u001b[0m \u001b[0;32mimport\u001b[0m \u001b[0mtrain_test_split\u001b[0m\u001b[0;34m\u001b[0m\u001b[0;34m\u001b[0m\u001b[0m\n\u001b[0;32m---> 12\u001b[0;31m         \u001b[0;32mfrom\u001b[0m \u001b[0mtest\u001b[0m \u001b[0;32mimport\u001b[0m \u001b[0mRidgeTransformer\u001b[0m\u001b[0;34m\u001b[0m\u001b[0;34m\u001b[0m\u001b[0m\n\u001b[0m\u001b[1;32m     13\u001b[0m         \u001b[0;32mfrom\u001b[0m \u001b[0mtest\u001b[0m \u001b[0;32mimport\u001b[0m \u001b[0mRandomForestTransformer\u001b[0m\u001b[0;34m\u001b[0m\u001b[0;34m\u001b[0m\u001b[0m\n\u001b[1;32m     14\u001b[0m         \u001b[0;32mfrom\u001b[0m \u001b[0mtest\u001b[0m \u001b[0;32mimport\u001b[0m \u001b[0mKNeighborsTransformer\u001b[0m\u001b[0;34m\u001b[0m\u001b[0;34m\u001b[0m\u001b[0m\n",
      "\u001b[0;31mImportError\u001b[0m: cannot import name 'RidgeTransformer' from 'test' (/home/asitha/anaconda3/lib/python3.7/test/__init__.py)"
     ]
    }
   ],
   "source": [
    "if __name__ == '__main__':\n",
    "    with open('age.pickle', 'wb') as f:\n",
    "        print('Build and fit a model...')\n",
    "        import pandas as pd\n",
    "        import numpy as np\n",
    "        import time\n",
    "        from sklearn.metrics import mean_squared_error, r2_score\n",
    "        from sklearn.model_selection import cross_val_score\n",
    "        from sklearn.impute import SimpleImputer\n",
    "        from sklearn.preprocessing import LabelEncoder        \n",
    "        from sklearn.model_selection import train_test_split\n",
    "        from test import RidgeTransformer\n",
    "        from test import DecisionTreeTransformer\n",
    "        from test import KNeighborsTransformer\n",
    "        \n",
    "        df = pd.read_csv('../data/age_structure.csv')\n",
    "        \n",
    "        df.replace(' ', np.nan, inplace=True)\n",
    "        \n",
    "        df = df.dropna(axis=1, how='all')\n",
    "        \n",
    "        imp=SimpleImputer(missing_values=np.NaN)\n",
    "        idf=pd.DataFrame(imp.fit_transform(df))\n",
    "        idf.columns=df.columns\n",
    "        idf.index=df.index\n",
    "        \n",
    "        idf['YEAR_ENCODED'] = LabelEncoder().fit_transform(idf.YEAR)\n",
    "        idf['DISTRICT_ENCODED'] = LabelEncoder().fit_transform(idf.DISTRICT)\n",
    "        \n",
    "        research_features = ['YEAR_ENCODED', 'DISTRICT_ENCODED', 'AGE_CAT', 'GENDER']\n",
    "        X = idf[research_features]\n",
    "        y = idf['COUNT']\n",
    "        \n",
    "        X_train, X_test, y_train, y_test = train_test_split(X, y, random_state=1,test_size=0.2)\n",
    "        \n",
    "        model = Pipeline(steps=[\n",
    "        ('scaler', StandardScaler()),\n",
    "        ('poly_feats', PolynomialFeatures()),\n",
    "        ('dst', DecisionTreeTransformer()),\n",
    "        ('lin_regr', LinearRegression())\n",
    "        ])\n",
    "\n",
    "        begin = time.time()\n",
    "        model_name = 'Custom-RDK-Model'\n",
    "        model.fit(X_train,y_train)\n",
    "        print(model_name + ' Train time: ' + str((time.time() - begin)/60) + \" minutes\")\n",
    "        preds = model.predict(X_test)\n",
    "        mse = mean_squared_error(y_test,preds)\n",
    "        r2 = r2_score(y_test,preds)\n",
    "        scores = cross_val_score(model, X_train, y_train, cv=5)\n",
    "        print(model_name + ' MSE: ' + str(mse))\n",
    "        print(model_name + ' R2 ' + str(r2))\n",
    "        print(\"Accuracy: %0.2f (+/- %0.2f)\" % (scores.mean(), scores.std() * 2))\n",
    "        \n",
    "        pickle.dump(model, f)\n",
    "        print('pickle dumped')"
   ]
  },
  {
   "cell_type": "code",
   "execution_count": null,
   "metadata": {},
   "outputs": [],
   "source": []
  },
  {
   "cell_type": "markdown",
   "metadata": {},
   "source": [
    "## Check all remaining linear and non-linear regressors (including which do not support extrapolating) \n",
    "### NOTE: Non-linear Regressors examples\n",
    "#### Decision Trees\n",
    "Decision Trees, also referred to as Classification and Regression Trees (CART), work for both categorical and continuous input and output variables. It works by splitting the data into two or more homogeneous sets based on the most significant splitter among the independent variables. The best differentiator is the one that minimizes the cost metric. The cost metrics for a classification tree is often the entropy or the gini index, whereas, for a regression tree, the default metric is the mean squared error.\n",
    "#### Random Forest\n",
    "Decision Trees are useful, but the problem is that they often tend to overfit the training data leading to high variances in the test data. Random Forest algorithms overcome this shortcoming by reducing the variance of the decision trees. They are called 'Forest' because they are the collection, or ensemble, of several decision trees. One major difference between a Decision Tree and a Random Forest model is on how the splits happen. In Random Forest, instead of trying splits on all the features, a sample of features is selected for each split, thereby reducing the variance of the model"
   ]
  },
  {
   "cell_type": "code",
   "execution_count": null,
   "metadata": {},
   "outputs": [],
   "source": [
    "#import sklearn regression models\n",
    "from sklearn.tree import DecisionTreeRegressor\n",
    "from sklearn.gaussian_process import GaussianProcessRegressor\n",
    "from sklearn.neighbors import KNeighborsRegressor\n",
    "from sklearn.svm import SVR, NuSVR, LinearSVR\n",
    "from sklearn.kernel_ridge import KernelRidge\n",
    "from sklearn.ensemble import RandomForestRegressor\n",
    "\n",
    "#Dictionary of all models. All models intialized with no args. Can modify any of them to test various args.\n",
    "\n",
    "models = {\n",
    "          'GaussianProcessRegressor': GaussianProcessRegressor(),\n",
    "          'KernelRidge': KernelRidge(),\n",
    "          'DecisionTreeRegressor': DecisionTreeRegressor(),\n",
    "          'KNeighborsRegressor': KNeighborsRegressor(),\n",
    "          'SVR': SVR(gamma='scale'),\n",
    "          'NuSVR': NuSVR(gamma='scale'),\n",
    "          'LinearSVR': LinearSVR(),\n",
    "          'RandomForestRegressor': RandomForestRegressor()\n",
    "         }"
   ]
  },
  {
   "cell_type": "code",
   "execution_count": null,
   "metadata": {},
   "outputs": [],
   "source": [
    "#Import non-sklearn packages\n",
    "import numpy as np\n",
    "import time\n",
    "from sklearn.metrics import mean_squared_error, r2_score\n",
    "from sklearn.model_selection import cross_val_score\n",
    "\n",
    "print_coef = False\n",
    "\n",
    "for key, model in models.items():\n",
    "    begin = time.time()\n",
    "    model.fit(X_train,y_train)\n",
    "    print(key + ' Train time: ' + str((time.time() - begin)/60) + \" minutes\")\n",
    "    preds = model.predict(X_test)\n",
    "    mse = mean_squared_error(y_test,preds)\n",
    "    r2 = r2_score(y_test,preds)\n",
    "    scores = cross_val_score(model, X_train, y_train, cv=5)\n",
    "    print(key + ' MSE: ' + str(mse))\n",
    "    print(key + ' R2 ' + str(r2))\n",
    "    print(\"Accuracy: %0.2f (+/- %0.2f)\" % (scores.mean(), scores.std() * 2))\n",
    "    if print_coef:\n",
    "        print('Coefficients:')\n",
    "        print(model.coef_)\n",
    "    print('')"
   ]
  },
  {
   "cell_type": "markdown",
   "metadata": {},
   "source": [
    "## Trying Ensemble methods\n",
    "The goal of ensemble methods is to combine the predictions of several base estimators built with a given learning algorithm in order to improve generalizability / robustness over a single estimator.\n",
    "\n",
    "from sklearn.base import TransformerMixin"
   ]
  },
  {
   "cell_type": "code",
   "execution_count": null,
   "metadata": {},
   "outputs": [],
   "source": [
    "class MLPTransformer(MLPRegressor, TransformerMixin):\n",
    "    \n",
    "    def transform(self, X, *_):\n",
    "        return self.predict(X).reshape(-1,1)\n",
    "    \n",
    "class RidgeTransformer(Ridge, TransformerMixin):\n",
    "    \n",
    "    def transform(self, X, *_):\n",
    "        return self.predict(X).reshape(-1,1)\n",
    "\n",
    "class ElasticNetTransformer(ElasticNet, TransformerMixin):\n",
    "    \n",
    "    def transform(self, X, *_):\n",
    "        return self.predict(X).reshape(-1,1)\n",
    "    \n",
    "class OrthogonalMatchingPursuitTransformer(OrthogonalMatchingPursuit, TransformerMixin):\n",
    "    \n",
    "    def transform(self, X, *_):\n",
    "        return self.predict(X).reshape(-1,1)\n",
    "\n",
    "  "
   ]
  },
  {
   "cell_type": "code",
   "execution_count": null,
   "metadata": {},
   "outputs": [],
   "source": [
    "def build_model():\n",
    "    ridge_transformer = Pipeline(steps=[\n",
    "        ('scaler', StandardScaler()),\n",
    "        ('poly_feats', PolynomialFeatures()),\n",
    "        ('ridge', OrthogonalMatchingPursuitTransformer())\n",
    "    ])\n",
    "\n",
    "    pred_union = FeatureUnion(\n",
    "        transformer_list=[\n",
    "            ('ridge', ridge_transformer),\n",
    "            ('enet', ElasticNetTransformer())\n",
    "        ],\n",
    "        n_jobs=2\n",
    "    )\n",
    "\n",
    "    model = Pipeline(steps=[\n",
    "        ('pred_union', pred_union),\n",
    "        ('lin_regr', LinearRegression())\n",
    "    ])\n",
    "\n",
    "    return model"
   ]
  },
  {
   "cell_type": "code",
   "execution_count": null,
   "metadata": {},
   "outputs": [],
   "source": [
    "begin = time.time()\n",
    "model_2 = build_model()\n",
    "model_2_name = 'Custom-RDK-Model'\n",
    "model_2.fit(X_train,y_train)\n",
    "print(model_2_name + ' Train time: ' + str((time.time() - begin)/60) + \" minutes\")\n",
    "preds = model_2.predict(X_test)\n",
    "mse = mean_squared_error(y_test,preds)\n",
    "r2 = r2_score(y_test,preds)\n",
    "scores = cross_val_score(model_2, X_train, y_train, cv=5)\n",
    "print(model_2_name + ' MSE: ' + str(mse))\n",
    "print(model_2_name + ' R2 ' + str(r2))\n",
    "print(\"Accuracy: %0.2f (+/- %0.2f)\" % (scores.mean(), scores.std() * 2))\n",
    "\n",
    "### NOTE: Combination of Ridge, DecisionTrees and KNN works"
   ]
  },
  {
   "cell_type": "code",
   "execution_count": null,
   "metadata": {},
   "outputs": [],
   "source": [
    "from sklearn.neural_network import MLPRegressor\n",
    "from sklearn.pipeline import make_pipeline\n",
    "mlp = make_pipeline(StandardScaler(),KNeighborsTransformer(),\n",
    "                    MLPRegressor(hidden_layer_sizes=(200, 1000),\n",
    "                                 tol=1e-2, max_iter=500,activation='relu', \\\n",
    "                            random_state=0)\n",
    "\n",
    "begin = time.time()\n",
    "model_2 = mlp\n",
    "model_2_name = 'MLPRegressor'\n",
    "model_2.fit(X_train,y_train)\n",
    "print(model_2_name + ' Train time: ' + str((time.time() - begin)/60) + \" minutes\")\n",
    "preds = model_2.predict(X_test)\n",
    "mse = mean_squared_error(y_test,preds)\n",
    "r2 = r2_score(y_test,preds)\n",
    "scores = cross_val_score(model_2, X_train, y_train, cv=5)\n",
    "print(model_2_name + ' MSE: ' + str(mse))\n",
    "print(model_2_name + ' R2 ' + str(r2))\n",
    "print(\"Accuracy: %0.2f (+/- %0.2f)\" % (scores.mean(), scores.std() * 2))"
   ]
  }
 ],
 "metadata": {
  "kernelspec": {
   "display_name": "Python 3",
   "language": "python",
   "name": "python3"
  },
  "language_info": {
   "codemirror_mode": {
    "name": "ipython",
    "version": 3
   },
   "file_extension": ".py",
   "mimetype": "text/x-python",
   "name": "python",
   "nbconvert_exporter": "python",
   "pygments_lexer": "ipython3",
   "version": "3.7.3"
  }
 },
 "nbformat": 4,
 "nbformat_minor": 2
}
