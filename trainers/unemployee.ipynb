{
 "cells": [
  {
   "cell_type": "code",
   "execution_count": 1,
   "metadata": {},
   "outputs": [],
   "source": [
    "import pandas as pd"
   ]
  },
  {
   "cell_type": "markdown",
   "metadata": {},
   "source": [
    "### Load the unemployee dataset"
   ]
  },
  {
   "cell_type": "code",
   "execution_count": 2,
   "metadata": {},
   "outputs": [
    {
     "data": {
      "text/html": [
       "<div>\n",
       "<style scoped>\n",
       "    .dataframe tbody tr th:only-of-type {\n",
       "        vertical-align: middle;\n",
       "    }\n",
       "\n",
       "    .dataframe tbody tr th {\n",
       "        vertical-align: top;\n",
       "    }\n",
       "\n",
       "    .dataframe thead th {\n",
       "        text-align: right;\n",
       "    }\n",
       "</style>\n",
       "<table border=\"1\" class=\"dataframe\">\n",
       "  <thead>\n",
       "    <tr style=\"text-align: right;\">\n",
       "      <th></th>\n",
       "      <th>YEAR</th>\n",
       "      <th>DISTRICT</th>\n",
       "      <th>AGE_CAT</th>\n",
       "      <th>GENDER</th>\n",
       "      <th>COUNT</th>\n",
       "    </tr>\n",
       "  </thead>\n",
       "  <tbody>\n",
       "    <tr>\n",
       "      <th>0</th>\n",
       "      <td>2008</td>\n",
       "      <td>11</td>\n",
       "      <td>2</td>\n",
       "      <td>2</td>\n",
       "      <td>835993.089422</td>\n",
       "    </tr>\n",
       "    <tr>\n",
       "      <th>1</th>\n",
       "      <td>2008</td>\n",
       "      <td>11</td>\n",
       "      <td>2</td>\n",
       "      <td>1</td>\n",
       "      <td>799233.191042</td>\n",
       "    </tr>\n",
       "    <tr>\n",
       "      <th>2</th>\n",
       "      <td>2008</td>\n",
       "      <td>11</td>\n",
       "      <td>1</td>\n",
       "      <td>1</td>\n",
       "      <td>149166.168928</td>\n",
       "    </tr>\n",
       "    <tr>\n",
       "      <th>3</th>\n",
       "      <td>2008</td>\n",
       "      <td>11</td>\n",
       "      <td>1</td>\n",
       "      <td>2</td>\n",
       "      <td>134663.507804</td>\n",
       "    </tr>\n",
       "    <tr>\n",
       "      <th>4</th>\n",
       "      <td>2008</td>\n",
       "      <td>11</td>\n",
       "      <td>3</td>\n",
       "      <td>1</td>\n",
       "      <td>171541.253274</td>\n",
       "    </tr>\n",
       "  </tbody>\n",
       "</table>\n",
       "</div>"
      ],
      "text/plain": [
       "   YEAR  DISTRICT  AGE_CAT GENDER          COUNT\n",
       "0  2008        11        2      2  835993.089422\n",
       "1  2008        11        2      1  799233.191042\n",
       "2  2008        11        1      1  149166.168928\n",
       "3  2008        11        1      2  134663.507804\n",
       "4  2008        11        3      1  171541.253274"
      ]
     },
     "execution_count": 2,
     "metadata": {},
     "output_type": "execute_result"
    }
   ],
   "source": [
    "# read CSV file from the 'data' subdirectory using a relative path\n",
    "df = pd.read_csv('../data/unemployee.csv')\n",
    "\n",
    "# display the first 5 rows\n",
    "df.head()"
   ]
  },
  {
   "cell_type": "code",
   "execution_count": 3,
   "metadata": {},
   "outputs": [
    {
     "data": {
      "text/html": [
       "<div>\n",
       "<style scoped>\n",
       "    .dataframe tbody tr th:only-of-type {\n",
       "        vertical-align: middle;\n",
       "    }\n",
       "\n",
       "    .dataframe tbody tr th {\n",
       "        vertical-align: top;\n",
       "    }\n",
       "\n",
       "    .dataframe thead th {\n",
       "        text-align: right;\n",
       "    }\n",
       "</style>\n",
       "<table border=\"1\" class=\"dataframe\">\n",
       "  <thead>\n",
       "    <tr style=\"text-align: right;\">\n",
       "      <th></th>\n",
       "      <th>YEAR</th>\n",
       "      <th>DISTRICT</th>\n",
       "      <th>AGE_CAT</th>\n",
       "      <th>GENDER</th>\n",
       "      <th>COUNT</th>\n",
       "    </tr>\n",
       "  </thead>\n",
       "  <tbody>\n",
       "    <tr>\n",
       "      <th>1181</th>\n",
       "      <td>2005</td>\n",
       "      <td>11</td>\n",
       "      <td>2</td>\n",
       "      <td>2</td>\n",
       "      <td>4554.763358</td>\n",
       "    </tr>\n",
       "    <tr>\n",
       "      <th>1182</th>\n",
       "      <td>2005</td>\n",
       "      <td>11</td>\n",
       "      <td>1</td>\n",
       "      <td>1</td>\n",
       "      <td>379.563613</td>\n",
       "    </tr>\n",
       "    <tr>\n",
       "      <th>1183</th>\n",
       "      <td>2005</td>\n",
       "      <td>11</td>\n",
       "      <td>1</td>\n",
       "      <td>2</td>\n",
       "      <td>379.563613</td>\n",
       "    </tr>\n",
       "    <tr>\n",
       "      <th>1184</th>\n",
       "      <td>2005</td>\n",
       "      <td>11</td>\n",
       "      <td>3</td>\n",
       "      <td>2</td>\n",
       "      <td>379.563613</td>\n",
       "    </tr>\n",
       "    <tr>\n",
       "      <th>1185</th>\n",
       "      <td>2005</td>\n",
       "      <td>11</td>\n",
       "      <td>3</td>\n",
       "      <td>1</td>\n",
       "      <td>379.563613</td>\n",
       "    </tr>\n",
       "  </tbody>\n",
       "</table>\n",
       "</div>"
      ],
      "text/plain": [
       "      YEAR  DISTRICT  AGE_CAT GENDER        COUNT\n",
       "1181  2005        11        2      2  4554.763358\n",
       "1182  2005        11        1      1   379.563613\n",
       "1183  2005        11        1      2   379.563613\n",
       "1184  2005        11        3      2   379.563613\n",
       "1185  2005        11        3      1   379.563613"
      ]
     },
     "execution_count": 3,
     "metadata": {},
     "output_type": "execute_result"
    }
   ],
   "source": [
    "# display the last 5 rows\n",
    "df.tail()"
   ]
  },
  {
   "cell_type": "code",
   "execution_count": 4,
   "metadata": {},
   "outputs": [
    {
     "data": {
      "text/plain": [
       "(1186, 5)"
      ]
     },
     "execution_count": 4,
     "metadata": {},
     "output_type": "execute_result"
    }
   ],
   "source": [
    "# check the shape of the DataFrame (rows, columns)\n",
    "df.shape"
   ]
  },
  {
   "cell_type": "markdown",
   "metadata": {},
   "source": [
    "### Data Preprocessing"
   ]
  },
  {
   "cell_type": "markdown",
   "metadata": {},
   "source": [
    "#### 1. Replcaing empty cells with NaN(Not a number)"
   ]
  },
  {
   "cell_type": "code",
   "execution_count": 5,
   "metadata": {},
   "outputs": [
    {
     "data": {
      "text/html": [
       "<div>\n",
       "<style scoped>\n",
       "    .dataframe tbody tr th:only-of-type {\n",
       "        vertical-align: middle;\n",
       "    }\n",
       "\n",
       "    .dataframe tbody tr th {\n",
       "        vertical-align: top;\n",
       "    }\n",
       "\n",
       "    .dataframe thead th {\n",
       "        text-align: right;\n",
       "    }\n",
       "</style>\n",
       "<table border=\"1\" class=\"dataframe\">\n",
       "  <thead>\n",
       "    <tr style=\"text-align: right;\">\n",
       "      <th></th>\n",
       "      <th>YEAR</th>\n",
       "      <th>DISTRICT</th>\n",
       "      <th>AGE_CAT</th>\n",
       "      <th>GENDER</th>\n",
       "      <th>COUNT</th>\n",
       "    </tr>\n",
       "  </thead>\n",
       "  <tbody>\n",
       "    <tr>\n",
       "      <th>0</th>\n",
       "      <td>2008</td>\n",
       "      <td>11</td>\n",
       "      <td>2</td>\n",
       "      <td>2</td>\n",
       "      <td>835993.089422</td>\n",
       "    </tr>\n",
       "    <tr>\n",
       "      <th>1</th>\n",
       "      <td>2008</td>\n",
       "      <td>11</td>\n",
       "      <td>2</td>\n",
       "      <td>1</td>\n",
       "      <td>799233.191042</td>\n",
       "    </tr>\n",
       "    <tr>\n",
       "      <th>2</th>\n",
       "      <td>2008</td>\n",
       "      <td>11</td>\n",
       "      <td>1</td>\n",
       "      <td>1</td>\n",
       "      <td>149166.168928</td>\n",
       "    </tr>\n",
       "    <tr>\n",
       "      <th>3</th>\n",
       "      <td>2008</td>\n",
       "      <td>11</td>\n",
       "      <td>1</td>\n",
       "      <td>2</td>\n",
       "      <td>134663.507804</td>\n",
       "    </tr>\n",
       "    <tr>\n",
       "      <th>4</th>\n",
       "      <td>2008</td>\n",
       "      <td>11</td>\n",
       "      <td>3</td>\n",
       "      <td>1</td>\n",
       "      <td>171541.253274</td>\n",
       "    </tr>\n",
       "  </tbody>\n",
       "</table>\n",
       "</div>"
      ],
      "text/plain": [
       "   YEAR  DISTRICT  AGE_CAT GENDER          COUNT\n",
       "0  2008        11        2      2  835993.089422\n",
       "1  2008        11        2      1  799233.191042\n",
       "2  2008        11        1      1  149166.168928\n",
       "3  2008        11        1      2  134663.507804\n",
       "4  2008        11        3      1  171541.253274"
      ]
     },
     "execution_count": 5,
     "metadata": {},
     "output_type": "execute_result"
    }
   ],
   "source": [
    "import numpy as np\n",
    "df.replace(' ', np.nan, inplace=True)\n",
    "df.head()"
   ]
  },
  {
   "cell_type": "markdown",
   "metadata": {},
   "source": [
    "#### 2. Drop columns with NaN values "
   ]
  },
  {
   "cell_type": "code",
   "execution_count": 6,
   "metadata": {},
   "outputs": [],
   "source": [
    "df = df.dropna(axis=1, how='all')"
   ]
  },
  {
   "cell_type": "markdown",
   "metadata": {},
   "source": [
    "#### NOTE: Best way to handle missing data\n",
    "\n",
    "**Eliminating and Imputing** are two different strategies for handling samples or features with missing values.\n",
    "\n",
    "Eliminating simply we remove the corresponding features (columns) or samples (rows) from the dataset entirely that have a certain number of missing values. The disadvantages for this strategy, we will run the risk of losing valuable information that our classifier needs to discriminate between classes.\n",
    "\n",
    "Imputing we handle missing data by applying different interpolation techniques to estimate the missing values. One of the most common interpolation techniques is mean imputation, where we simply replace the missing value by the mean value of the entire feature column. A convenient way to achieve this is by using the Imputer class from scikit-learn, but filling missing values with this way is also a prediction which ignore the relation between missing values and other features.\n",
    "\n",
    "Visualizing the important characteristics of a dataset is an important and recommended first step to clarifying the correlation between features to guide us to use a regression or another simple model to predict the values of missing variables. We have tried imputation here because we cannot loose data records."
   ]
  },
  {
   "cell_type": "markdown",
   "metadata": {},
   "source": [
    "#### 2. Imputation of missing values"
   ]
  },
  {
   "cell_type": "markdown",
   "metadata": {},
   "source": [
    "##### i. Univariate vs. Multivariate Imputation\n",
    "\n",
    "One type of imputation algorithm is univariate, which imputes values in the i-th feature dimension using only non-missing values in that feature dimension (e.g. impute.SimpleImputer). By contrast, multivariate imputation algorithms use the entire set of available feature dimensions to estimate the missing values (e.g. impute.IterativeImputer). As we can see we have to try multivariate imputation because it is the most sophisticated approach is to use. (***IterativeImputer class***)"
   ]
  },
  {
   "cell_type": "code",
   "execution_count": 7,
   "metadata": {},
   "outputs": [],
   "source": [
    "from sklearn.impute import SimpleImputer\n",
    "imp=SimpleImputer(missing_values=np.NaN)\n",
    "idf=pd.DataFrame(imp.fit_transform(df))\n",
    "idf.columns=df.columns\n",
    "idf.index=df.index"
   ]
  },
  {
   "cell_type": "code",
   "execution_count": 8,
   "metadata": {},
   "outputs": [
    {
     "data": {
      "text/html": [
       "<div>\n",
       "<style scoped>\n",
       "    .dataframe tbody tr th:only-of-type {\n",
       "        vertical-align: middle;\n",
       "    }\n",
       "\n",
       "    .dataframe tbody tr th {\n",
       "        vertical-align: top;\n",
       "    }\n",
       "\n",
       "    .dataframe thead th {\n",
       "        text-align: right;\n",
       "    }\n",
       "</style>\n",
       "<table border=\"1\" class=\"dataframe\">\n",
       "  <thead>\n",
       "    <tr style=\"text-align: right;\">\n",
       "      <th></th>\n",
       "      <th>YEAR</th>\n",
       "      <th>DISTRICT</th>\n",
       "      <th>AGE_CAT</th>\n",
       "      <th>GENDER</th>\n",
       "      <th>COUNT</th>\n",
       "    </tr>\n",
       "  </thead>\n",
       "  <tbody>\n",
       "    <tr>\n",
       "      <th>0</th>\n",
       "      <td>2008.0</td>\n",
       "      <td>11.0</td>\n",
       "      <td>2.0</td>\n",
       "      <td>2.0</td>\n",
       "      <td>835993.089422</td>\n",
       "    </tr>\n",
       "    <tr>\n",
       "      <th>1</th>\n",
       "      <td>2008.0</td>\n",
       "      <td>11.0</td>\n",
       "      <td>2.0</td>\n",
       "      <td>1.0</td>\n",
       "      <td>799233.191042</td>\n",
       "    </tr>\n",
       "    <tr>\n",
       "      <th>2</th>\n",
       "      <td>2008.0</td>\n",
       "      <td>11.0</td>\n",
       "      <td>1.0</td>\n",
       "      <td>1.0</td>\n",
       "      <td>149166.168928</td>\n",
       "    </tr>\n",
       "    <tr>\n",
       "      <th>3</th>\n",
       "      <td>2008.0</td>\n",
       "      <td>11.0</td>\n",
       "      <td>1.0</td>\n",
       "      <td>2.0</td>\n",
       "      <td>134663.507804</td>\n",
       "    </tr>\n",
       "    <tr>\n",
       "      <th>4</th>\n",
       "      <td>2008.0</td>\n",
       "      <td>11.0</td>\n",
       "      <td>3.0</td>\n",
       "      <td>1.0</td>\n",
       "      <td>171541.253274</td>\n",
       "    </tr>\n",
       "  </tbody>\n",
       "</table>\n",
       "</div>"
      ],
      "text/plain": [
       "     YEAR  DISTRICT  AGE_CAT  GENDER          COUNT\n",
       "0  2008.0      11.0      2.0     2.0  835993.089422\n",
       "1  2008.0      11.0      2.0     1.0  799233.191042\n",
       "2  2008.0      11.0      1.0     1.0  149166.168928\n",
       "3  2008.0      11.0      1.0     2.0  134663.507804\n",
       "4  2008.0      11.0      3.0     1.0  171541.253274"
      ]
     },
     "execution_count": 8,
     "metadata": {},
     "output_type": "execute_result"
    }
   ],
   "source": [
    "idf.head()"
   ]
  },
  {
   "cell_type": "code",
   "execution_count": 9,
   "metadata": {},
   "outputs": [],
   "source": [
    "X = idf.drop(['COUNT'], axis=1)\n",
    "y = idf['COUNT']"
   ]
  },
  {
   "cell_type": "markdown",
   "metadata": {},
   "source": [
    "### Original data visualization"
   ]
  },
  {
   "cell_type": "code",
   "execution_count": 29,
   "metadata": {},
   "outputs": [
    {
     "data": {
      "text/plain": [
       "<seaborn.axisgrid.PairGrid at 0x7f03f8839f98>"
      ]
     },
     "execution_count": 29,
     "metadata": {},
     "output_type": "execute_result"
    },
    {
     "data": {
      "image/png": "[encoded data removed]",
      "text/plain": [
       "<Figure size 720x720 with 1 Axes>"
      ]
     },
     "metadata": {
      "needs_background": "light"
     },
     "output_type": "display_data"
    }
   ],
   "source": [
    "import seaborn as sns\n",
    "%matplotlib inline\n",
    "\n",
    "# visualize the relationship between the features and the response using scatterplots\n",
    "sns.pairplot(idf, x_vars='YEAR', y_vars='COUNT', height=10, kind='reg')"
   ]
  },
  {
   "cell_type": "markdown",
   "metadata": {},
   "source": [
    "# Feature selection"
   ]
  },
  {
   "cell_type": "markdown",
   "metadata": {},
   "source": [
    "#### Plotting original data with regression line"
   ]
  },
  {
   "cell_type": "code",
   "execution_count": 10,
   "metadata": {},
   "outputs": [
    {
     "data": {
      "text/plain": [
       "<seaborn.axisgrid.PairGrid at 0x7f03fa5e06d8>"
      ]
     },
     "execution_count": 10,
     "metadata": {},
     "output_type": "execute_result"
    },
    {
     "data": {
      "image/png": "[encoded data removed]",
      "text/plain": [
       "<Figure size 1296x360 with 4 Axes>"
      ]
     },
     "metadata": {
      "needs_background": "light"
     },
     "output_type": "display_data"
    }
   ],
   "source": [
    "import seaborn as sns\n",
    "%matplotlib inline\n",
    "\n",
    "# visualize the relationship between the features and the response using scatterplots\n",
    "sns.pairplot(idf, x_vars=X.columns, y_vars='COUNT', height=5, aspect=0.9, kind='reg')"
   ]
  },
  {
   "cell_type": "markdown",
   "metadata": {},
   "source": [
    "Feature selection can be done in multiple ways but there are broadly 3 categories of it.\n",
    "1. Filter Method\n",
    "2. Wrapper Method\n",
    "3. Embedded Method\n",
    "\n",
    "(NOTE: 2 and 3 method are suited when lesser features (~20). Since there are more than 20 features we will use filter method.)"
   ]
  },
  {
   "cell_type": "markdown",
   "metadata": {},
   "source": [
    "### 1. Filter Method\n",
    "Plot the Pearson correlation heatmap and see the correlation of independent variables with the output variable. We will only select features which has correlation of above 0.5."
   ]
  },
  {
   "cell_type": "markdown",
   "metadata": {},
   "source": [
    "#### Pearson correlation heatmap"
   ]
  },
  {
   "cell_type": "code",
   "execution_count": 11,
   "metadata": {},
   "outputs": [
    {
     "data": {
      "image/png": "[encoded data removed]",
      "text/plain": [
       "<Figure size 1080x720 with 2 Axes>"
      ]
     },
     "metadata": {
      "needs_background": "light"
     },
     "output_type": "display_data"
    }
   ],
   "source": [
    "import matplotlib.pyplot as plt\n",
    "%matplotlib inline\n",
    "#Using Pearson Correlation\n",
    "plt.figure(figsize=(15,10))\n",
    "cor = idf.corr()\n",
    "sns.heatmap(cor, annot=True, cmap=plt.cm.Reds)\n",
    "plt.show()"
   ]
  },
  {
   "cell_type": "markdown",
   "metadata": {},
   "source": [
    "#### Getting the selected features using correltion matrix"
   ]
  },
  {
   "cell_type": "code",
   "execution_count": 12,
   "metadata": {},
   "outputs": [
    {
     "data": {
      "text/plain": [
       "['COUNT']"
      ]
     },
     "execution_count": 12,
     "metadata": {},
     "output_type": "execute_result"
    }
   ],
   "source": [
    "#Correlation with output variable\n",
    "cor_target = abs(cor[\"COUNT\"])#Selecting highly correlated features\n",
    "selected_features_FM = cor_target[cor_target>=0.5]\n",
    "selected_features_FM = list(selected_features_FM.keys())\n",
    "selected_features_FM"
   ]
  },
  {
   "cell_type": "markdown",
   "metadata": {},
   "source": [
    "### 2. Wrapper Method\n",
    "Feed the features to the selected Machine Learning algorithm and based on the model performance you add/remove the features. This is an iterative and computationally expensive process but it is more accurate than the filter method.\n",
    "\n",
    "There are different wrapper methods such as Backward Elimination, Forward Selection, Bidirectional Elimination and RFE."
   ]
  },
  {
   "cell_type": "markdown",
   "metadata": {},
   "source": [
    "#### i. Backward Elimination\n",
    "Check the performance of the model and then iteratively remove the worst performing features one by one till the overall performance of the model comes in acceptable range.\n",
    "\n",
    "The performance metric used here to evaluate feature performance is pvalue. If the pvalue is above 0.05 then we remove the feature, else we keep it.\n",
    "\n",
    "Here we are using OLS model which stands for “Ordinary Least Squares”. This model is used for performing linear regression."
   ]
  },
  {
   "cell_type": "code",
   "execution_count": 13,
   "metadata": {},
   "outputs": [
    {
     "name": "stdout",
     "output_type": "stream",
     "text": [
      "['YEAR', 'DISTRICT', 'AGE_CAT', 'GENDER']\n"
     ]
    },
    {
     "name": "stderr",
     "output_type": "stream",
     "text": [
      "/home/asitha/anaconda3/lib/python3.7/site-packages/numpy/core/fromnumeric.py:2389: FutureWarning: Method .ptp is deprecated and will be removed in a future version. Use numpy.ptp instead.\n",
      "  return ptp(axis=axis, out=out, **kwargs)\n"
     ]
    }
   ],
   "source": [
    "import statsmodels.api as sm\n",
    "#Backward Elimination\n",
    "cols = list(X.columns)\n",
    "pmax = 1\n",
    "while (len(cols)>0):\n",
    "    p= []\n",
    "    X_1 = X[cols]\n",
    "    X_1 = sm.add_constant(X_1)\n",
    "    model = sm.OLS(y,X_1).fit()\n",
    "    p = pd.Series(model.pvalues.values[1:],index = cols)      \n",
    "    pmax = max(p)\n",
    "    feature_with_p_max = p.idxmax()\n",
    "    if(pmax>0.05):\n",
    "        cols.remove(feature_with_p_max)\n",
    "    else:\n",
    "        break\n",
    "selected_features_BE = cols\n",
    "print(selected_features_BE)"
   ]
  },
  {
   "cell_type": "markdown",
   "metadata": {},
   "source": [
    "### 3. Embeded Method\n",
    "Embedded methods are iterative in a sense that takes care of each iteration of the model training process and carefully extract those features which contribute the most to the training for a particular iteration. Regularization methods are the most commonly used embedded methods which penalize a feature given a coefficient threshold.\n",
    "\n",
    "Here we will do feature selection using Lasso regularization. If the feature is irrelevant, lasso penalizes it’s coefficient and make it 0. Hence the features with coefficient = 0 are removed and the rest are taken."
   ]
  },
  {
   "cell_type": "code",
   "execution_count": 14,
   "metadata": {},
   "outputs": [
    {
     "name": "stdout",
     "output_type": "stream",
     "text": [
      "Best alpha using built-in LassoCV: 675.664110\n",
      "Best score using built-in LassoCV: 0.110805\n",
      "Lasso picked 4 variables and eliminated the other 0 variables\n"
     ]
    },
    {
     "name": "stderr",
     "output_type": "stream",
     "text": [
      "/home/asitha/anaconda3/lib/python3.7/site-packages/sklearn/model_selection/_split.py:1978: FutureWarning: The default value of cv will change from 3 to 5 in version 0.22. Specify it explicitly to silence this warning.\n",
      "  warnings.warn(CV_WARNING, FutureWarning)\n"
     ]
    },
    {
     "data": {
      "text/plain": [
       "Text(0.5, 1.0, 'Feature importance using Lasso Model')"
      ]
     },
     "execution_count": 14,
     "metadata": {},
     "output_type": "execute_result"
    },
    {
     "data": {
      "image/png": "[encoded data removed]",
      "text/plain": [
       "<Figure size 576x720 with 1 Axes>"
      ]
     },
     "metadata": {
      "needs_background": "light"
     },
     "output_type": "display_data"
    }
   ],
   "source": [
    "import matplotlib\n",
    "from sklearn.linear_model import LassoCV\n",
    "\n",
    "lassoReg = LassoCV()\n",
    "lassoReg.fit(X, y)\n",
    "print(\"Best alpha using built-in LassoCV: %f\" % lassoReg.alpha_)\n",
    "print(\"Best score using built-in LassoCV: %f\" %lassoReg.score(X,y))\n",
    "coef = pd.Series(lassoReg.coef_, index = X.columns)\n",
    "\n",
    "print(\"Lasso picked \" + str(sum(coef != 0)) + \" variables and eliminated the other \" +  str(sum(coef == 0)) + \" variables\")\n",
    "\n",
    "imp_coef = coef.sort_values()\n",
    "matplotlib.rcParams['figure.figsize'] = (8.0, 10.0)\n",
    "imp_coef.plot(kind = \"barh\")\n",
    "plt.title(\"Feature importance using Lasso Model\")"
   ]
  },
  {
   "cell_type": "markdown",
   "metadata": {},
   "source": [
    "### NOTE: Since there are not more than 20 feature we have used filter method. But filter method does not works with this dataset as we expected. So we have used backward eleimintaion. "
   ]
  },
  {
   "cell_type": "markdown",
   "metadata": {},
   "source": [
    "What are the features?\n",
    "- **YEAR:**\n",
    "- **GENDER:**\n",
    "- **DISTRICT:** etc.\n",
    "\n",
    "What is the response?\n",
    "- **COUNT**\n",
    "\n",
    "What else do we know?\n",
    "- Because the response variable is continuous, this is a **regression** problem."
   ]
  },
  {
   "cell_type": "markdown",
   "metadata": {},
   "source": [
    "### Test the model with the subset of selected features and features that we need to check"
   ]
  },
  {
   "cell_type": "code",
   "execution_count": 15,
   "metadata": {},
   "outputs": [
    {
     "data": {
      "text/html": [
       "<div>\n",
       "<style scoped>\n",
       "    .dataframe tbody tr th:only-of-type {\n",
       "        vertical-align: middle;\n",
       "    }\n",
       "\n",
       "    .dataframe tbody tr th {\n",
       "        vertical-align: top;\n",
       "    }\n",
       "\n",
       "    .dataframe thead th {\n",
       "        text-align: right;\n",
       "    }\n",
       "</style>\n",
       "<table border=\"1\" class=\"dataframe\">\n",
       "  <thead>\n",
       "    <tr style=\"text-align: right;\">\n",
       "      <th></th>\n",
       "      <th>YEAR</th>\n",
       "      <th>DISTRICT</th>\n",
       "      <th>AGE_CAT</th>\n",
       "      <th>GENDER</th>\n",
       "    </tr>\n",
       "  </thead>\n",
       "  <tbody>\n",
       "    <tr>\n",
       "      <th>0</th>\n",
       "      <td>2008.0</td>\n",
       "      <td>11.0</td>\n",
       "      <td>2.0</td>\n",
       "      <td>2.0</td>\n",
       "    </tr>\n",
       "    <tr>\n",
       "      <th>1</th>\n",
       "      <td>2008.0</td>\n",
       "      <td>11.0</td>\n",
       "      <td>2.0</td>\n",
       "      <td>1.0</td>\n",
       "    </tr>\n",
       "    <tr>\n",
       "      <th>2</th>\n",
       "      <td>2008.0</td>\n",
       "      <td>11.0</td>\n",
       "      <td>1.0</td>\n",
       "      <td>1.0</td>\n",
       "    </tr>\n",
       "    <tr>\n",
       "      <th>3</th>\n",
       "      <td>2008.0</td>\n",
       "      <td>11.0</td>\n",
       "      <td>1.0</td>\n",
       "      <td>2.0</td>\n",
       "    </tr>\n",
       "    <tr>\n",
       "      <th>4</th>\n",
       "      <td>2008.0</td>\n",
       "      <td>11.0</td>\n",
       "      <td>3.0</td>\n",
       "      <td>1.0</td>\n",
       "    </tr>\n",
       "  </tbody>\n",
       "</table>\n",
       "</div>"
      ],
      "text/plain": [
       "     YEAR  DISTRICT  AGE_CAT  GENDER\n",
       "0  2008.0      11.0      2.0     2.0\n",
       "1  2008.0      11.0      2.0     1.0\n",
       "2  2008.0      11.0      1.0     1.0\n",
       "3  2008.0      11.0      1.0     2.0\n",
       "4  2008.0      11.0      3.0     1.0"
      ]
     },
     "execution_count": 15,
     "metadata": {},
     "output_type": "execute_result"
    }
   ],
   "source": [
    "# use the list to select a subset of the original DataFrame\n",
    "research_features = ['YEAR', 'DISTRICT', 'AGE_CAT', 'GENDER']\n",
    "X = idf[research_features]\n",
    "\n",
    "# print the first 5 rows\n",
    "X.head()"
   ]
  },
  {
   "cell_type": "code",
   "execution_count": 16,
   "metadata": {},
   "outputs": [
    {
     "name": "stdout",
     "output_type": "stream",
     "text": [
      "<class 'pandas.core.frame.DataFrame'>\n",
      "(1186, 4)\n"
     ]
    }
   ],
   "source": [
    "# check the type and shape of X\n",
    "print(type(X))\n",
    "print(X.shape)"
   ]
  },
  {
   "cell_type": "code",
   "execution_count": 17,
   "metadata": {},
   "outputs": [
    {
     "data": {
      "text/plain": [
       "0    835993.089422\n",
       "1    799233.191042\n",
       "2    149166.168928\n",
       "3    134663.507804\n",
       "4    171541.253274\n",
       "Name: COUNT, dtype: float64"
      ]
     },
     "execution_count": 17,
     "metadata": {},
     "output_type": "execute_result"
    }
   ],
   "source": [
    "# select a Series from the DataFrame\n",
    "y = idf['COUNT']\n",
    "\n",
    "# print the first 5 values\n",
    "y.head()"
   ]
  },
  {
   "cell_type": "code",
   "execution_count": 18,
   "metadata": {},
   "outputs": [
    {
     "name": "stdout",
     "output_type": "stream",
     "text": [
      "<class 'pandas.core.series.Series'>\n",
      "(1186,)\n"
     ]
    }
   ],
   "source": [
    "# check the type and shape of y\n",
    "print(type(y))\n",
    "print(y.shape)"
   ]
  },
  {
   "cell_type": "markdown",
   "metadata": {},
   "source": [
    "## Splitting X and y into training and testing sets"
   ]
  },
  {
   "cell_type": "code",
   "execution_count": 19,
   "metadata": {},
   "outputs": [],
   "source": [
    "from sklearn.model_selection import train_test_split\n",
    "X_train, X_test, y_train, y_test = train_test_split(X, y, random_state=1,test_size=0.2)"
   ]
  },
  {
   "cell_type": "code",
   "execution_count": 20,
   "metadata": {},
   "outputs": [
    {
     "name": "stdout",
     "output_type": "stream",
     "text": [
      "(948, 4)\n",
      "(948,)\n",
      "(238, 4)\n",
      "(238,)\n"
     ]
    }
   ],
   "source": [
    "# default split is 80% for training and 20% for testing\n",
    "print(X_train.shape)\n",
    "print(y_train.shape)\n",
    "print(X_test.shape)\n",
    "print(y_test.shape)"
   ]
  },
  {
   "cell_type": "markdown",
   "metadata": {},
   "source": [
    "## Scaling Data"
   ]
  },
  {
   "cell_type": "code",
   "execution_count": 21,
   "metadata": {},
   "outputs": [],
   "source": [
    "# from sklearn.preprocessing import StandardScaler\n",
    "\n",
    "# scaler = StandardScaler()\n",
    "# scaler.fit(X_train)\n",
    "# X_train = scaler.transform(X_train)\n",
    "# X_test = scaler.transform(X_test)"
   ]
  },
  {
   "cell_type": "markdown",
   "metadata": {},
   "source": [
    "## Finding the best linear regression algorithm"
   ]
  },
  {
   "cell_type": "code",
   "execution_count": 22,
   "metadata": {},
   "outputs": [],
   "source": [
    "#import sklearn regression models\n",
    "from sklearn.linear_model import LinearRegression, Ridge, Lasso, ElasticNet, Lars, OrthogonalMatchingPursuit, BayesianRidge, ARDRegression, SGDRegressor, PassiveAggressiveRegressor, RANSACRegressor, TheilSenRegressor, HuberRegressor\n",
    "from sklearn.tree import DecisionTreeRegressor\n",
    "from sklearn.gaussian_process import GaussianProcessRegressor\n",
    "from sklearn.neural_network import MLPRegressor\n",
    "from sklearn.neighbors import KNeighborsRegressor, RadiusNeighborsRegressor\n",
    "from sklearn.svm import SVR, NuSVR, LinearSVR\n",
    "from sklearn.kernel_ridge import KernelRidge\n",
    "from sklearn.ensemble import RandomForestRegressor\n",
    "\n",
    "#Dictionary of all models. All models intialized with no args. Can modify any of them to test various args.\n",
    "# Error: 'RadiusNeighborsRegressor': RadiusNeighborsRegressor(),\n",
    "models = {'LinearRegression': LinearRegression(),\n",
    "          'Ridge': Ridge(),\n",
    "          'ARDRegression': ARDRegression(),\n",
    "          'GaussianProcessRegressor': GaussianProcessRegressor(),\n",
    "          'TheilSenRegressor': TheilSenRegressor(),\n",
    "          'SGDRegressor': SGDRegressor(),\n",
    "          'KernelRidge': KernelRidge(),\n",
    "          'RANSACRegressor': RANSACRegressor(),\n",
    "          'Lasso': Lasso(),\n",
    "          'ElasticNet': ElasticNet(),\n",
    "          'Lars': Lars(),\n",
    "          'OrthogonalMatchingPursuit': OrthogonalMatchingPursuit(),\n",
    "          'BayesianRidge': BayesianRidge(),\n",
    "          'PassiveAggressiveRegressor': PassiveAggressiveRegressor(),\n",
    "          'HuberRegressor': HuberRegressor(),\n",
    "          'DecisionTreeRegressor': DecisionTreeRegressor(),\n",
    "          'KNeighborsRegressor': KNeighborsRegressor(),\n",
    "          'SVR': SVR(gamma='scale'),\n",
    "          'NuSVR': NuSVR(gamma='scale'),\n",
    "          'LinearSVR': LinearSVR(),\n",
    "          'RandomForestRegressor': RandomForestRegressor(n_estimators=500, oob_score=True, random_state=100)\n",
    "         }"
   ]
  },
  {
   "cell_type": "markdown",
   "metadata": {},
   "source": [
    "### NOTE: Non-linear Regressors\n",
    "#### Decision Trees\n",
    "Decision Trees, also referred to as Classification and Regression Trees (CART), work for both categorical and continuous input and output variables. It works by splitting the data into two or more homogeneous sets based on the most significant splitter among the independent variables. The best differentiator is the one that minimizes the cost metric. The cost metrics for a classification tree is often the entropy or the gini index, whereas, for a regression tree, the default metric is the mean squared error.\n",
    "#### Random Forest\n",
    "Decision Trees are useful, but the problem is that they often tend to overfit the training data leading to high variances in the test data. Random Forest algorithms overcome this shortcoming by reducing the variance of the decision trees. They are called 'Forest' because they are the collection, or ensemble, of several decision trees. One major difference between a Decision Tree and a Random Forest model is on how the splits happen. In Random Forest, instead of trying splits on all the features, a sample of features is selected for each split, thereby reducing the variance of the model"
   ]
  },
  {
   "cell_type": "markdown",
   "metadata": {},
   "source": [
    "## Model evaluation metrics for regression\n",
    "\n",
    "Evaluation metrics for classification problems, such as **accuracy**, are not useful for regression problems. Instead, we need evaluation metrics designed for comparing continuous values.\n",
    "\n",
    "Let's create some example numeric predictions, and calculate **three common evaluation metrics** for regression problems:\n",
    "\n",
    "**Mean Absolute Error** (MAE) is the mean of the absolute value of the errors:\n",
    "\n",
    "$$\\frac 1n\\sum_{i=1}^n|y_i-\\hat{y}_i|$$\n",
    "\n",
    "**Mean Squared Error** (MSE) is the mean of the squared errors:\n",
    "\n",
    "$$\\frac 1n\\sum_{i=1}^n(y_i-\\hat{y}_i)^2$$\n",
    "\n",
    "**Root Mean Squared Error** (RMSE) is the square root of the mean of the squared errors:\n",
    "\n",
    "$$\\sqrt{\\frac 1n\\sum_{i=1}^n(y_i-\\hat{y}_i)^2}$$\n",
    "\n",
    "Comparing these metrics:\n",
    "\n",
    "- **MAE** is the easiest to understand, because it's the average error.\n",
    "- **MSE** is more popular than MAE, because MSE \"punishes\" larger errors.\n",
    "- **RMSE** is even more popular than MSE, because RMSE is interpretable in the \"y\" units."
   ]
  },
  {
   "cell_type": "code",
   "execution_count": 23,
   "metadata": {},
   "outputs": [
    {
     "name": "stdout",
     "output_type": "stream",
     "text": [
      "LinearRegression Train time: 0.00013348658879597982 minutes\n",
      "LinearRegression MSE: 12323753600.500418\n",
      "LinearRegression R2 0.15141684617973838\n",
      "Accuracy: 0.09 (+/- 0.07)\n",
      "\n",
      "Ridge Train time: 2.8177102406819662e-05 minutes\n",
      "Ridge MSE: 12324371424.706198\n",
      "Ridge R2 0.1513743043349366\n",
      "Accuracy: 0.09 (+/- 0.07)\n",
      "\n",
      "ARDRegression Train time: 0.09726988474527995 minutes\n",
      "ARDRegression MSE: 12337614700.467318\n",
      "ARDRegression R2 0.15046240516228304\n",
      "Accuracy: 0.06 (+/- 0.06)\n",
      "\n",
      "GaussianProcessRegressor Train time: 0.0018161177635192872 minutes\n",
      "GaussianProcessRegressor MSE: 4820664853.988596\n",
      "GaussianProcessRegressor R2 0.6680609562704966\n",
      "Accuracy: 0.71 (+/- 0.08)\n",
      "\n",
      "TheilSenRegressor Train time: 0.016699322064717612 minutes\n",
      "TheilSenRegressor MSE: 13290749709.786133\n",
      "TheilSenRegressor R2 0.08483188880796211\n",
      "Accuracy: 0.01 (+/- 0.09)\n",
      "\n",
      "SGDRegressor Train time: 4.803339640299479e-05 minutes\n",
      "SGDRegressor MSE: 7.033736508998586e+30\n",
      "SGDRegressor R2 -4.843256773410637e+20\n",
      "Accuracy: -72951294166285459456.00 (+/- 177500693075202801664.00)\n",
      "\n",
      "KernelRidge Train time: 0.0003244916598002116 minutes\n",
      "KernelRidge MSE: 12749452471.2016\n",
      "KernelRidge R2 0.12210427616351682\n",
      "Accuracy: 0.08 (+/- 0.06)\n",
      "\n",
      "RANSACRegressor Train time: 0.0006599227587381998 minutes\n",
      "RANSACRegressor MSE: 19681871430.415108\n",
      "RANSACRegressor R2 -0.35524492560678644\n",
      "Accuracy: -0.23 (+/- 0.20)\n",
      "\n",
      "Lasso Train time: 2.1425882975260415e-05 minutes\n",
      "Lasso MSE: 12323775283.87577\n",
      "Lasso R2 0.15141535311620924\n",
      "Accuracy: 0.09 (+/- 0.07)\n",
      "\n",
      "ElasticNet Train time: 2.1568934122721355e-05 minutes\n",
      "ElasticNet MSE: 12611190381.996464\n",
      "ElasticNet R2 0.13162466122758587\n",
      "Accuracy: 0.09 (+/- 0.06)\n",
      "\n",
      "Lars Train time: 3.3799807230631514e-05 minutes\n",
      "Lars MSE: 12323753600.500416\n",
      "Lars R2 0.1514168461797385\n",
      "Accuracy: 0.09 (+/- 0.07)\n",
      "\n",
      "OrthogonalMatchingPursuit Train time: 2.4418036142985027e-05 minutes\n",
      "OrthogonalMatchingPursuit MSE: 14534023250.86917\n",
      "OrthogonalMatchingPursuit R2 -0.0007768483312393659\n",
      "Accuracy: 0.03 (+/- 0.04)\n",
      "\n",
      "BayesianRidge Train time: 3.6899248758951826e-05 minutes\n",
      "BayesianRidge MSE: 12378279519.826746\n",
      "BayesianRidge R2 0.14766232640542176\n",
      "Accuracy: 0.09 (+/- 0.06)\n",
      "\n",
      "PassiveAggressiveRegressor Train time: 2.4771690368652345e-05 minutes\n",
      "PassiveAggressiveRegressor MSE: 162173108030.0023\n",
      "PassiveAggressiveRegressor R2 -10.166838606002742\n",
      "Accuracy: -0.16 (+/- 0.41)\n",
      "\n",
      "HuberRegressor Train time: 0.00023229122161865233 minutes\n",
      "HuberRegressor MSE: 13935922095.911959\n",
      "HuberRegressor R2 0.04040691603390678\n",
      "Accuracy: 0.00 (+/- 0.08)\n",
      "\n",
      "DecisionTreeRegressor Train time: 3.87271245320638e-05 minutes\n",
      "DecisionTreeRegressor MSE: 1185347679.0398088\n",
      "DecisionTreeRegressor R2 0.9183798942708263\n",
      "Accuracy: 0.87 (+/- 0.18)\n",
      "\n",
      "KNeighborsRegressor Train time: 2.1672248840332033e-05 minutes\n",
      "KNeighborsRegressor MSE: 7467152110.660068\n",
      "KNeighborsRegressor R2 0.48583039765885583\n",
      "Accuracy: 0.36 (+/- 0.25)\n",
      "\n",
      "SVR Train time: 0.00046865145365397137 minutes\n",
      "SVR MSE: 16869233620.63597\n",
      "SVR R2 -0.16157365137102309\n",
      "Accuracy: -0.14 (+/- 0.07)\n",
      "\n",
      "NuSVR Train time: 0.00045996507008870443 minutes\n",
      "NuSVR MSE: 15112686824.579155\n",
      "NuSVR R2 -0.04062218898782177\n",
      "Accuracy: -0.05 (+/- 0.05)\n",
      "\n",
      "LinearSVR Train time: 0.00016564130783081055 minutes\n",
      "LinearSVR MSE: 16520107833.972025\n",
      "LinearSVR R2 -0.1375337142924984\n",
      "Accuracy: -0.10 (+/- 0.06)\n",
      "\n"
     ]
    },
    {
     "name": "stderr",
     "output_type": "stream",
     "text": [
      "/home/asitha/anaconda3/lib/python3.7/site-packages/sklearn/svm/base.py:929: ConvergenceWarning: Liblinear failed to converge, increase the number of iterations.\n",
      "  \"the number of iterations.\", ConvergenceWarning)\n",
      "/home/asitha/anaconda3/lib/python3.7/site-packages/sklearn/svm/base.py:929: ConvergenceWarning: Liblinear failed to converge, increase the number of iterations.\n",
      "  \"the number of iterations.\", ConvergenceWarning)\n",
      "/home/asitha/anaconda3/lib/python3.7/site-packages/sklearn/svm/base.py:929: ConvergenceWarning: Liblinear failed to converge, increase the number of iterations.\n",
      "  \"the number of iterations.\", ConvergenceWarning)\n",
      "/home/asitha/anaconda3/lib/python3.7/site-packages/sklearn/svm/base.py:929: ConvergenceWarning: Liblinear failed to converge, increase the number of iterations.\n",
      "  \"the number of iterations.\", ConvergenceWarning)\n",
      "/home/asitha/anaconda3/lib/python3.7/site-packages/sklearn/svm/base.py:929: ConvergenceWarning: Liblinear failed to converge, increase the number of iterations.\n",
      "  \"the number of iterations.\", ConvergenceWarning)\n",
      "/home/asitha/anaconda3/lib/python3.7/site-packages/sklearn/svm/base.py:929: ConvergenceWarning: Liblinear failed to converge, increase the number of iterations.\n",
      "  \"the number of iterations.\", ConvergenceWarning)\n"
     ]
    },
    {
     "name": "stdout",
     "output_type": "stream",
     "text": [
      "RandomForestRegressor Train time: 0.011136746406555176 minutes\n",
      "RandomForestRegressor MSE: 1133453777.6677082\n",
      "RandomForestRegressor R2 0.9219531798068652\n",
      "Accuracy: 0.91 (+/- 0.08)\n",
      "\n"
     ]
    }
   ],
   "source": [
    "#Import non-sklearn packages\n",
    "import numpy as np\n",
    "import time\n",
    "from sklearn.metrics import mean_squared_error, r2_score\n",
    "from sklearn.model_selection import cross_val_score\n",
    "\n",
    "print_coef = False\n",
    "\n",
    "for key, model in models.items():\n",
    "    begin = time.time()\n",
    "    model.fit(X_train,y_train)\n",
    "    print(key + ' Train time: ' + str((time.time() - begin)/60) + \" minutes\")\n",
    "    preds = model.predict(X_test)\n",
    "    mse = mean_squared_error(y_test,preds)\n",
    "    r2 = r2_score(y_test,preds)\n",
    "    scores = cross_val_score(model, X_train, y_train, cv=5)\n",
    "    print(key + ' MSE: ' + str(mse))\n",
    "    print(key + ' R2 ' + str(r2))\n",
    "    print(\"Accuracy: %0.2f (+/- %0.2f)\" % (scores.mean(), scores.std() * 2))\n",
    "    if print_coef:\n",
    "        print('Coefficients:')\n",
    "        print(model.coef_)\n",
    "    print('')"
   ]
  },
  {
   "cell_type": "markdown",
   "metadata": {},
   "source": [
    "### Select the best model (Which has the hieghest accuary and heighest speed)"
   ]
  },
  {
   "cell_type": "code",
   "execution_count": 26,
   "metadata": {},
   "outputs": [
    {
     "name": "stdout",
     "output_type": "stream",
     "text": [
      "RandomForestRegressor Train time: 0.011347997188568115 minutes\n",
      "RandomForestRegressor MSE: 1133453777.6677082\n",
      "RandomForestRegressor R2 0.9219531798068652\n",
      "Accuracy: 0.91 (+/- 0.08)\n"
     ]
    }
   ],
   "source": [
    "begin = time.time()\n",
    "best_model = RandomForestRegressor(n_estimators=500, oob_score=True, random_state=100)\n",
    "best_model_name = 'RandomForestRegressor'\n",
    "best_model.fit(X_train,y_train)\n",
    "print(best_model_name + ' Train time: ' + str((time.time() - begin)/60) + \" minutes\")\n",
    "preds = best_model.predict(X_test)\n",
    "mse = mean_squared_error(y_test,preds)\n",
    "r2 = r2_score(y_test,preds)\n",
    "scores = cross_val_score(best_model, X_train, y_train, cv=5)\n",
    "print(best_model_name + ' MSE: ' + str(mse))\n",
    "print(best_model_name + ' R2 ' + str(r2))\n",
    "print(\"Accuracy: %0.2f (+/- %0.2f)\" % (scores.mean(), scores.std() * 2))"
   ]
  },
  {
   "cell_type": "code",
   "execution_count": 28,
   "metadata": {},
   "outputs": [],
   "source": [
    "import pickle\n",
    "# save the model to disk\n",
    "filename = '../models/unemployee.sav'\n",
    "pickle.dump(best_model, open(filename, 'wb'))"
   ]
  },
  {
   "cell_type": "code",
   "execution_count": null,
   "metadata": {},
   "outputs": [],
   "source": []
  }
 ],
 "metadata": {
  "kernelspec": {
   "display_name": "Python 3",
   "language": "python",
   "name": "python3"
  },
  "language_info": {
   "codemirror_mode": {
    "name": "ipython",
    "version": 3
   },
   "file_extension": ".py",
   "mimetype": "text/x-python",
   "name": "python",
   "nbconvert_exporter": "python",
   "pygments_lexer": "ipython3",
   "version": "3.7.3"
  }
 },
 "nbformat": 4,
 "nbformat_minor": 1
}
