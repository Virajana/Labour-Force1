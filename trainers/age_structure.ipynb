{
 "cells": [
  {
   "cell_type": "code",
   "execution_count": 1,
   "metadata": {},
   "outputs": [],
   "source": [
    "import pandas as pd"
   ]
  },
  {
   "cell_type": "markdown",
   "metadata": {},
   "source": [
    "### Load the age_structure dataset"
   ]
  },
  {
   "cell_type": "code",
   "execution_count": 2,
   "metadata": {},
   "outputs": [
    {
     "data": {
      "text/html": [
       "<div>\n",
       "<style scoped>\n",
       "    .dataframe tbody tr th:only-of-type {\n",
       "        vertical-align: middle;\n",
       "    }\n",
       "\n",
       "    .dataframe tbody tr th {\n",
       "        vertical-align: top;\n",
       "    }\n",
       "\n",
       "    .dataframe thead th {\n",
       "        text-align: right;\n",
       "    }\n",
       "</style>\n",
       "<table border=\"1\" class=\"dataframe\">\n",
       "  <thead>\n",
       "    <tr style=\"text-align: right;\">\n",
       "      <th></th>\n",
       "      <th>YEAR</th>\n",
       "      <th>DISTRICT</th>\n",
       "      <th>AGE_CAT</th>\n",
       "      <th>GENDER</th>\n",
       "      <th>COUNT</th>\n",
       "    </tr>\n",
       "  </thead>\n",
       "  <tbody>\n",
       "    <tr>\n",
       "      <th>0</th>\n",
       "      <td>2008</td>\n",
       "      <td>11</td>\n",
       "      <td>2</td>\n",
       "      <td>2</td>\n",
       "      <td>855062.028956</td>\n",
       "    </tr>\n",
       "    <tr>\n",
       "      <th>1</th>\n",
       "      <td>2008</td>\n",
       "      <td>11</td>\n",
       "      <td>2</td>\n",
       "      <td>1</td>\n",
       "      <td>813022.301643</td>\n",
       "    </tr>\n",
       "    <tr>\n",
       "      <th>2</th>\n",
       "      <td>2008</td>\n",
       "      <td>11</td>\n",
       "      <td>1</td>\n",
       "      <td>1</td>\n",
       "      <td>153121.937250</td>\n",
       "    </tr>\n",
       "    <tr>\n",
       "      <th>3</th>\n",
       "      <td>2008</td>\n",
       "      <td>11</td>\n",
       "      <td>1</td>\n",
       "      <td>2</td>\n",
       "      <td>138254.059477</td>\n",
       "    </tr>\n",
       "    <tr>\n",
       "      <th>4</th>\n",
       "      <td>2008</td>\n",
       "      <td>11</td>\n",
       "      <td>3</td>\n",
       "      <td>1</td>\n",
       "      <td>174140.700658</td>\n",
       "    </tr>\n",
       "  </tbody>\n",
       "</table>\n",
       "</div>"
      ],
      "text/plain": [
       "   YEAR  DISTRICT  AGE_CAT GENDER          COUNT\n",
       "0  2008        11        2      2  855062.028956\n",
       "1  2008        11        2      1  813022.301643\n",
       "2  2008        11        1      1  153121.937250\n",
       "3  2008        11        1      2  138254.059477\n",
       "4  2008        11        3      1  174140.700658"
      ]
     },
     "execution_count": 2,
     "metadata": {},
     "output_type": "execute_result"
    }
   ],
   "source": [
    "# read CSV file from the 'data' subdirectory using a relative path\n",
    "df = pd.read_csv('../data/age_structure.csv')\n",
    "\n",
    "# display the first 5 rows\n",
    "df.head()"
   ]
  },
  {
   "cell_type": "code",
   "execution_count": 3,
   "metadata": {},
   "outputs": [
    {
     "data": {
      "text/html": [
       "<div>\n",
       "<style scoped>\n",
       "    .dataframe tbody tr th:only-of-type {\n",
       "        vertical-align: middle;\n",
       "    }\n",
       "\n",
       "    .dataframe tbody tr th {\n",
       "        vertical-align: top;\n",
       "    }\n",
       "\n",
       "    .dataframe thead th {\n",
       "        text-align: right;\n",
       "    }\n",
       "</style>\n",
       "<table border=\"1\" class=\"dataframe\">\n",
       "  <thead>\n",
       "    <tr style=\"text-align: right;\">\n",
       "      <th></th>\n",
       "      <th>YEAR</th>\n",
       "      <th>DISTRICT</th>\n",
       "      <th>AGE_CAT</th>\n",
       "      <th>GENDER</th>\n",
       "      <th>COUNT</th>\n",
       "    </tr>\n",
       "  </thead>\n",
       "  <tbody>\n",
       "    <tr>\n",
       "      <th>1181</th>\n",
       "      <td>2005</td>\n",
       "      <td>11</td>\n",
       "      <td>2</td>\n",
       "      <td>2</td>\n",
       "      <td>4554.763358</td>\n",
       "    </tr>\n",
       "    <tr>\n",
       "      <th>1182</th>\n",
       "      <td>2005</td>\n",
       "      <td>11</td>\n",
       "      <td>1</td>\n",
       "      <td>1</td>\n",
       "      <td>379.563613</td>\n",
       "    </tr>\n",
       "    <tr>\n",
       "      <th>1183</th>\n",
       "      <td>2005</td>\n",
       "      <td>11</td>\n",
       "      <td>1</td>\n",
       "      <td>2</td>\n",
       "      <td>379.563613</td>\n",
       "    </tr>\n",
       "    <tr>\n",
       "      <th>1184</th>\n",
       "      <td>2005</td>\n",
       "      <td>11</td>\n",
       "      <td>3</td>\n",
       "      <td>2</td>\n",
       "      <td>379.563613</td>\n",
       "    </tr>\n",
       "    <tr>\n",
       "      <th>1185</th>\n",
       "      <td>2005</td>\n",
       "      <td>11</td>\n",
       "      <td>3</td>\n",
       "      <td>1</td>\n",
       "      <td>379.563613</td>\n",
       "    </tr>\n",
       "  </tbody>\n",
       "</table>\n",
       "</div>"
      ],
      "text/plain": [
       "      YEAR  DISTRICT  AGE_CAT GENDER        COUNT\n",
       "1181  2005        11        2      2  4554.763358\n",
       "1182  2005        11        1      1   379.563613\n",
       "1183  2005        11        1      2   379.563613\n",
       "1184  2005        11        3      2   379.563613\n",
       "1185  2005        11        3      1   379.563613"
      ]
     },
     "execution_count": 3,
     "metadata": {},
     "output_type": "execute_result"
    }
   ],
   "source": [
    "# display the last 5 rows\n",
    "df.tail()"
   ]
  },
  {
   "cell_type": "code",
   "execution_count": 4,
   "metadata": {},
   "outputs": [
    {
     "data": {
      "text/plain": [
       "(1186, 5)"
      ]
     },
     "execution_count": 4,
     "metadata": {},
     "output_type": "execute_result"
    }
   ],
   "source": [
    "# check the shape of the DataFrame (rows, columns)\n",
    "df.shape"
   ]
  },
  {
   "cell_type": "markdown",
   "metadata": {},
   "source": [
    "### Data Preprocessing"
   ]
  },
  {
   "cell_type": "markdown",
   "metadata": {},
   "source": [
    "#### 1. Replcaing empty cells with NaN(Not a number)"
   ]
  },
  {
   "cell_type": "code",
   "execution_count": 5,
   "metadata": {},
   "outputs": [
    {
     "data": {
      "text/html": [
       "<div>\n",
       "<style scoped>\n",
       "    .dataframe tbody tr th:only-of-type {\n",
       "        vertical-align: middle;\n",
       "    }\n",
       "\n",
       "    .dataframe tbody tr th {\n",
       "        vertical-align: top;\n",
       "    }\n",
       "\n",
       "    .dataframe thead th {\n",
       "        text-align: right;\n",
       "    }\n",
       "</style>\n",
       "<table border=\"1\" class=\"dataframe\">\n",
       "  <thead>\n",
       "    <tr style=\"text-align: right;\">\n",
       "      <th></th>\n",
       "      <th>YEAR</th>\n",
       "      <th>DISTRICT</th>\n",
       "      <th>AGE_CAT</th>\n",
       "      <th>GENDER</th>\n",
       "      <th>COUNT</th>\n",
       "    </tr>\n",
       "  </thead>\n",
       "  <tbody>\n",
       "    <tr>\n",
       "      <th>0</th>\n",
       "      <td>2008</td>\n",
       "      <td>11</td>\n",
       "      <td>2</td>\n",
       "      <td>2</td>\n",
       "      <td>855062.028956</td>\n",
       "    </tr>\n",
       "    <tr>\n",
       "      <th>1</th>\n",
       "      <td>2008</td>\n",
       "      <td>11</td>\n",
       "      <td>2</td>\n",
       "      <td>1</td>\n",
       "      <td>813022.301643</td>\n",
       "    </tr>\n",
       "    <tr>\n",
       "      <th>2</th>\n",
       "      <td>2008</td>\n",
       "      <td>11</td>\n",
       "      <td>1</td>\n",
       "      <td>1</td>\n",
       "      <td>153121.937250</td>\n",
       "    </tr>\n",
       "    <tr>\n",
       "      <th>3</th>\n",
       "      <td>2008</td>\n",
       "      <td>11</td>\n",
       "      <td>1</td>\n",
       "      <td>2</td>\n",
       "      <td>138254.059477</td>\n",
       "    </tr>\n",
       "    <tr>\n",
       "      <th>4</th>\n",
       "      <td>2008</td>\n",
       "      <td>11</td>\n",
       "      <td>3</td>\n",
       "      <td>1</td>\n",
       "      <td>174140.700658</td>\n",
       "    </tr>\n",
       "  </tbody>\n",
       "</table>\n",
       "</div>"
      ],
      "text/plain": [
       "   YEAR  DISTRICT  AGE_CAT GENDER          COUNT\n",
       "0  2008        11        2      2  855062.028956\n",
       "1  2008        11        2      1  813022.301643\n",
       "2  2008        11        1      1  153121.937250\n",
       "3  2008        11        1      2  138254.059477\n",
       "4  2008        11        3      1  174140.700658"
      ]
     },
     "execution_count": 5,
     "metadata": {},
     "output_type": "execute_result"
    }
   ],
   "source": [
    "import numpy as np\n",
    "df.replace(' ', np.nan, inplace=True)\n",
    "df.head()"
   ]
  },
  {
   "cell_type": "markdown",
   "metadata": {},
   "source": [
    "#### 2. Drop columns with NaN values "
   ]
  },
  {
   "cell_type": "code",
   "execution_count": 6,
   "metadata": {},
   "outputs": [],
   "source": [
    "df = df.dropna(axis=1, how='all')"
   ]
  },
  {
   "cell_type": "markdown",
   "metadata": {},
   "source": [
    "#### NOTE: Best way to handle missing data\n",
    "\n",
    "**Eliminating and Imputing** are two different strategies for handling samples or features with missing values.\n",
    "\n",
    "Eliminating simply we remove the corresponding features (columns) or samples (rows) from the dataset entirely that have a certain number of missing values. The disadvantages for this strategy, we will run the risk of losing valuable information that our classifier needs to discriminate between classes.\n",
    "\n",
    "Imputing we handle missing data by applying different interpolation techniques to estimate the missing values. One of the most common interpolation techniques is mean imputation, where we simply replace the missing value by the mean value of the entire feature column. A convenient way to achieve this is by using the Imputer class from scikit-learn, but filling missing values with this way is also a prediction which ignore the relation between missing values and other features.\n",
    "\n",
    "Visualizing the important characteristics of a dataset is an important and recommended first step to clarifying the correlation between features to guide us to use a regression or another simple model to predict the values of missing variables. We have tried imputation here because we cannot loose data records."
   ]
  },
  {
   "cell_type": "markdown",
   "metadata": {},
   "source": [
    "#### 2. Imputation of missing values"
   ]
  },
  {
   "cell_type": "markdown",
   "metadata": {},
   "source": [
    "##### i. Univariate vs. Multivariate Imputation\n",
    "\n",
    "One type of imputation algorithm is univariate, which imputes values in the i-th feature dimension using only non-missing values in that feature dimension (e.g. impute.SimpleImputer). By contrast, multivariate imputation algorithms use the entire set of available feature dimensions to estimate the missing values (e.g. impute.IterativeImputer). As we can see we have to try multivariate imputation because it is the most sophisticated approach is to use. (***IterativeImputer class***)"
   ]
  },
  {
   "cell_type": "code",
   "execution_count": 7,
   "metadata": {},
   "outputs": [],
   "source": [
    "from sklearn.impute import SimpleImputer\n",
    "imp=SimpleImputer(missing_values=np.NaN)\n",
    "idf=pd.DataFrame(imp.fit_transform(df))\n",
    "idf.columns=df.columns\n",
    "idf.index=df.index"
   ]
  },
  {
   "cell_type": "code",
   "execution_count": 8,
   "metadata": {},
   "outputs": [
    {
     "data": {
      "text/html": [
       "<div>\n",
       "<style scoped>\n",
       "    .dataframe tbody tr th:only-of-type {\n",
       "        vertical-align: middle;\n",
       "    }\n",
       "\n",
       "    .dataframe tbody tr th {\n",
       "        vertical-align: top;\n",
       "    }\n",
       "\n",
       "    .dataframe thead th {\n",
       "        text-align: right;\n",
       "    }\n",
       "</style>\n",
       "<table border=\"1\" class=\"dataframe\">\n",
       "  <thead>\n",
       "    <tr style=\"text-align: right;\">\n",
       "      <th></th>\n",
       "      <th>YEAR</th>\n",
       "      <th>DISTRICT</th>\n",
       "      <th>AGE_CAT</th>\n",
       "      <th>GENDER</th>\n",
       "      <th>COUNT</th>\n",
       "    </tr>\n",
       "  </thead>\n",
       "  <tbody>\n",
       "    <tr>\n",
       "      <th>0</th>\n",
       "      <td>2008.0</td>\n",
       "      <td>11.0</td>\n",
       "      <td>2.0</td>\n",
       "      <td>2.0</td>\n",
       "      <td>855062.028956</td>\n",
       "    </tr>\n",
       "    <tr>\n",
       "      <th>1</th>\n",
       "      <td>2008.0</td>\n",
       "      <td>11.0</td>\n",
       "      <td>2.0</td>\n",
       "      <td>1.0</td>\n",
       "      <td>813022.301643</td>\n",
       "    </tr>\n",
       "    <tr>\n",
       "      <th>2</th>\n",
       "      <td>2008.0</td>\n",
       "      <td>11.0</td>\n",
       "      <td>1.0</td>\n",
       "      <td>1.0</td>\n",
       "      <td>153121.937250</td>\n",
       "    </tr>\n",
       "    <tr>\n",
       "      <th>3</th>\n",
       "      <td>2008.0</td>\n",
       "      <td>11.0</td>\n",
       "      <td>1.0</td>\n",
       "      <td>2.0</td>\n",
       "      <td>138254.059477</td>\n",
       "    </tr>\n",
       "    <tr>\n",
       "      <th>4</th>\n",
       "      <td>2008.0</td>\n",
       "      <td>11.0</td>\n",
       "      <td>3.0</td>\n",
       "      <td>1.0</td>\n",
       "      <td>174140.700658</td>\n",
       "    </tr>\n",
       "  </tbody>\n",
       "</table>\n",
       "</div>"
      ],
      "text/plain": [
       "     YEAR  DISTRICT  AGE_CAT  GENDER          COUNT\n",
       "0  2008.0      11.0      2.0     2.0  855062.028956\n",
       "1  2008.0      11.0      2.0     1.0  813022.301643\n",
       "2  2008.0      11.0      1.0     1.0  153121.937250\n",
       "3  2008.0      11.0      1.0     2.0  138254.059477\n",
       "4  2008.0      11.0      3.0     1.0  174140.700658"
      ]
     },
     "execution_count": 8,
     "metadata": {},
     "output_type": "execute_result"
    }
   ],
   "source": [
    "idf.head()"
   ]
  },
  {
   "cell_type": "code",
   "execution_count": 9,
   "metadata": {},
   "outputs": [],
   "source": [
    "X = idf.drop(['COUNT'], axis=1)\n",
    "y = idf['COUNT']"
   ]
  },
  {
   "cell_type": "markdown",
   "metadata": {},
   "source": [
    "### Original data visualization"
   ]
  },
  {
   "cell_type": "code",
   "execution_count": 10,
   "metadata": {},
   "outputs": [
    {
     "data": {
      "text/plain": [
       "<seaborn.axisgrid.PairGrid at 0x7f5b8bd5e780>"
      ]
     },
     "execution_count": 10,
     "metadata": {},
     "output_type": "execute_result"
    },
    {
     "data": {
      "image/png": "[encoded data removed]",
      "text/plain": [
       "<Figure size 720x720 with 1 Axes>"
      ]
     },
     "metadata": {
      "needs_background": "light"
     },
     "output_type": "display_data"
    }
   ],
   "source": [
    "import seaborn as sns\n",
    "%matplotlib inline\n",
    "\n",
    "# visualize the relationship between the features and the response using scatterplots\n",
    "sns.pairplot(idf, x_vars='YEAR', y_vars='COUNT', height=10, kind='reg')"
   ]
  },
  {
   "cell_type": "markdown",
   "metadata": {},
   "source": [
    "# Feature selection"
   ]
  },
  {
   "cell_type": "markdown",
   "metadata": {},
   "source": [
    "#### Plotting original data with regression line"
   ]
  },
  {
   "cell_type": "code",
   "execution_count": 11,
   "metadata": {},
   "outputs": [
    {
     "data": {
      "text/plain": [
       "<seaborn.axisgrid.PairGrid at 0x7f5bb9a2c3c8>"
      ]
     },
     "execution_count": 11,
     "metadata": {},
     "output_type": "execute_result"
    },
    {
     "data": {
      "image/png": "[encoded data removed]",
      "text/plain": [
       "<Figure size 1296x360 with 4 Axes>"
      ]
     },
     "metadata": {
      "needs_background": "light"
     },
     "output_type": "display_data"
    }
   ],
   "source": [
    "import seaborn as sns\n",
    "%matplotlib inline\n",
    "\n",
    "# visualize the relationship between the features and the response using scatterplots\n",
    "sns.pairplot(idf, x_vars=X.columns, y_vars='COUNT', height=5, aspect=0.9, kind='reg')"
   ]
  },
  {
   "cell_type": "markdown",
   "metadata": {},
   "source": [
    "Feature selection can be done in multiple ways but there are broadly 3 categories of it.\n",
    "1. Filter Method\n",
    "2. Wrapper Method\n",
    "3. Embedded Method\n",
    "\n",
    "(NOTE: 2 and 3 method are suited when lesser features (~20). Since there are more than 20 features we will use filter method.)\n",
    "\n",
    "Reference link: https://towardsdatascience.com/feature-selection-with-pandas-e3690ad8504b"
   ]
  },
  {
   "cell_type": "markdown",
   "metadata": {},
   "source": [
    "### 1. Filter Method\n",
    "Plot the Pearson correlation heatmap and see the correlation of independent variables with the output variable. We will only select features which has correlation of above 0.5."
   ]
  },
  {
   "cell_type": "markdown",
   "metadata": {},
   "source": [
    "#### Pearson correlation heatmap"
   ]
  },
  {
   "cell_type": "code",
   "execution_count": 12,
   "metadata": {},
   "outputs": [
    {
     "data": {
      "image/png": "[encoded data removed]",
      "text/plain": [
       "<Figure size 1080x720 with 2 Axes>"
      ]
     },
     "metadata": {
      "needs_background": "light"
     },
     "output_type": "display_data"
    }
   ],
   "source": [
    "import matplotlib.pyplot as plt\n",
    "%matplotlib inline\n",
    "#Using Pearson Correlation\n",
    "plt.figure(figsize=(15,10))\n",
    "cor = idf.corr()\n",
    "sns.heatmap(cor, annot=True, cmap=plt.cm.Reds)\n",
    "plt.show()"
   ]
  },
  {
   "cell_type": "markdown",
   "metadata": {},
   "source": [
    "#### Getting the selected features using correltion matrix"
   ]
  },
  {
   "cell_type": "code",
   "execution_count": 13,
   "metadata": {},
   "outputs": [
    {
     "data": {
      "text/plain": [
       "['COUNT']"
      ]
     },
     "execution_count": 13,
     "metadata": {},
     "output_type": "execute_result"
    }
   ],
   "source": [
    "#Correlation with output variable\n",
    "cor_target = abs(cor[\"COUNT\"])#Selecting highly correlated features\n",
    "selected_features_FM = cor_target[cor_target>=0.5]\n",
    "selected_features_FM = list(selected_features_FM.keys())\n",
    "selected_features_FM"
   ]
  },
  {
   "cell_type": "markdown",
   "metadata": {},
   "source": [
    "### 2. Wrapper Method\n",
    "Feed the features to the selected Machine Learning algorithm and based on the model performance you add/remove the features. This is an iterative and computationally expensive process but it is more accurate than the filter method.\n",
    "\n",
    "There are different wrapper methods such as Backward Elimination, Forward Selection, Bidirectional Elimination and RFE."
   ]
  },
  {
   "cell_type": "markdown",
   "metadata": {},
   "source": [
    "#### i. Backward Elimination\n",
    "Check the performance of the model and then iteratively remove the worst performing features one by one till the overall performance of the model comes in acceptable range.\n",
    "\n",
    "The performance metric used here to evaluate feature performance is pvalue. If the pvalue is above 0.05 then we remove the feature, else we keep it.\n",
    "\n",
    "Here we are using OLS model which stands for “Ordinary Least Squares”. This model is used for performing linear regression."
   ]
  },
  {
   "cell_type": "code",
   "execution_count": 14,
   "metadata": {},
   "outputs": [
    {
     "name": "stdout",
     "output_type": "stream",
     "text": [
      "['DISTRICT', 'AGE_CAT', 'GENDER']\n"
     ]
    },
    {
     "name": "stderr",
     "output_type": "stream",
     "text": [
      "/home/asitha/anaconda3/lib/python3.7/site-packages/numpy/core/fromnumeric.py:2389: FutureWarning: Method .ptp is deprecated and will be removed in a future version. Use numpy.ptp instead.\n",
      "  return ptp(axis=axis, out=out, **kwargs)\n"
     ]
    }
   ],
   "source": [
    "import statsmodels.api as sm\n",
    "#Backward Elimination\n",
    "cols = list(X.columns)\n",
    "pmax = 1\n",
    "while (len(cols)>0):\n",
    "    p= []\n",
    "    X_1 = X[cols]\n",
    "    X_1 = sm.add_constant(X_1)\n",
    "    model = sm.OLS(y,X_1).fit()\n",
    "    p = pd.Series(model.pvalues.values[1:],index = cols)      \n",
    "    pmax = max(p)\n",
    "    feature_with_p_max = p.idxmax()\n",
    "    if(pmax>0.05):\n",
    "        cols.remove(feature_with_p_max)\n",
    "    else:\n",
    "        break\n",
    "selected_features_BE = cols\n",
    "print(selected_features_BE)"
   ]
  },
  {
   "cell_type": "markdown",
   "metadata": {},
   "source": [
    "### 3. Embeded Method\n",
    "Embedded methods are iterative in a sense that takes care of each iteration of the model training process and carefully extract those features which contribute the most to the training for a particular iteration. Regularization methods are the most commonly used embedded methods which penalize a feature given a coefficient threshold.\n",
    "\n",
    "Here we will do feature selection using Lasso regularization. If the feature is irrelevant, lasso penalizes it’s coefficient and make it 0. Hence the features with coefficient = 0 are removed and the rest are taken."
   ]
  },
  {
   "cell_type": "code",
   "execution_count": 15,
   "metadata": {},
   "outputs": [
    {
     "name": "stdout",
     "output_type": "stream",
     "text": [
      "Best alpha using built-in LassoCV: 740.254687\n",
      "Best score using built-in LassoCV: 0.099118\n",
      "Lasso picked 4 variables and eliminated the other 0 variables\n"
     ]
    },
    {
     "name": "stderr",
     "output_type": "stream",
     "text": [
      "/home/asitha/anaconda3/lib/python3.7/site-packages/sklearn/model_selection/_split.py:1978: FutureWarning: The default value of cv will change from 3 to 5 in version 0.22. Specify it explicitly to silence this warning.\n",
      "  warnings.warn(CV_WARNING, FutureWarning)\n"
     ]
    },
    {
     "data": {
      "text/plain": [
       "Text(0.5, 1.0, 'Feature importance using Lasso Model')"
      ]
     },
     "execution_count": 15,
     "metadata": {},
     "output_type": "execute_result"
    },
    {
     "data": {
      "image/png": "[encoded data removed]",
      "text/plain": [
       "<Figure size 576x720 with 1 Axes>"
      ]
     },
     "metadata": {
      "needs_background": "light"
     },
     "output_type": "display_data"
    }
   ],
   "source": [
    "import matplotlib\n",
    "from sklearn.linear_model import LassoCV\n",
    "\n",
    "lassoReg = LassoCV()\n",
    "lassoReg.fit(X, y)\n",
    "print(\"Best alpha using built-in LassoCV: %f\" % lassoReg.alpha_)\n",
    "print(\"Best score using built-in LassoCV: %f\" %lassoReg.score(X,y))\n",
    "coef = pd.Series(lassoReg.coef_, index = X.columns)\n",
    "\n",
    "print(\"Lasso picked \" + str(sum(coef != 0)) + \" variables and eliminated the other \" +  str(sum(coef == 0)) + \" variables\")\n",
    "\n",
    "imp_coef = coef.sort_values()\n",
    "matplotlib.rcParams['figure.figsize'] = (8.0, 10.0)\n",
    "imp_coef.plot(kind = \"barh\")\n",
    "plt.title(\"Feature importance using Lasso Model\")"
   ]
  },
  {
   "cell_type": "markdown",
   "metadata": {},
   "source": [
    "### NOTE: Since there are not more than 20 feature we have used filter method. But filter method does not works with this dataset as we expected. So we have used backward eleimintaion. "
   ]
  },
  {
   "cell_type": "markdown",
   "metadata": {},
   "source": [
    "What are the features?\n",
    "- **YEAR:**\n",
    "- **GENDER:**\n",
    "- **DISTRICT:** etc.\n",
    "\n",
    "What is the response?\n",
    "- **COUNT**\n",
    "\n",
    "What else do we know?\n",
    "- Because the response variable is continuous, this is a **regression** problem."
   ]
  },
  {
   "cell_type": "markdown",
   "metadata": {},
   "source": [
    "### Test the model with the subset of selected features and features that we need to check"
   ]
  },
  {
   "cell_type": "code",
   "execution_count": 16,
   "metadata": {},
   "outputs": [
    {
     "data": {
      "text/html": [
       "<div>\n",
       "<style scoped>\n",
       "    .dataframe tbody tr th:only-of-type {\n",
       "        vertical-align: middle;\n",
       "    }\n",
       "\n",
       "    .dataframe tbody tr th {\n",
       "        vertical-align: top;\n",
       "    }\n",
       "\n",
       "    .dataframe thead th {\n",
       "        text-align: right;\n",
       "    }\n",
       "</style>\n",
       "<table border=\"1\" class=\"dataframe\">\n",
       "  <thead>\n",
       "    <tr style=\"text-align: right;\">\n",
       "      <th></th>\n",
       "      <th>YEAR</th>\n",
       "      <th>DISTRICT</th>\n",
       "      <th>AGE_CAT</th>\n",
       "      <th>GENDER</th>\n",
       "    </tr>\n",
       "  </thead>\n",
       "  <tbody>\n",
       "    <tr>\n",
       "      <th>0</th>\n",
       "      <td>2008.0</td>\n",
       "      <td>11.0</td>\n",
       "      <td>2.0</td>\n",
       "      <td>2.0</td>\n",
       "    </tr>\n",
       "    <tr>\n",
       "      <th>1</th>\n",
       "      <td>2008.0</td>\n",
       "      <td>11.0</td>\n",
       "      <td>2.0</td>\n",
       "      <td>1.0</td>\n",
       "    </tr>\n",
       "    <tr>\n",
       "      <th>2</th>\n",
       "      <td>2008.0</td>\n",
       "      <td>11.0</td>\n",
       "      <td>1.0</td>\n",
       "      <td>1.0</td>\n",
       "    </tr>\n",
       "    <tr>\n",
       "      <th>3</th>\n",
       "      <td>2008.0</td>\n",
       "      <td>11.0</td>\n",
       "      <td>1.0</td>\n",
       "      <td>2.0</td>\n",
       "    </tr>\n",
       "    <tr>\n",
       "      <th>4</th>\n",
       "      <td>2008.0</td>\n",
       "      <td>11.0</td>\n",
       "      <td>3.0</td>\n",
       "      <td>1.0</td>\n",
       "    </tr>\n",
       "  </tbody>\n",
       "</table>\n",
       "</div>"
      ],
      "text/plain": [
       "     YEAR  DISTRICT  AGE_CAT  GENDER\n",
       "0  2008.0      11.0      2.0     2.0\n",
       "1  2008.0      11.0      2.0     1.0\n",
       "2  2008.0      11.0      1.0     1.0\n",
       "3  2008.0      11.0      1.0     2.0\n",
       "4  2008.0      11.0      3.0     1.0"
      ]
     },
     "execution_count": 16,
     "metadata": {},
     "output_type": "execute_result"
    }
   ],
   "source": [
    "# use the list to select a subset of the original DataFrame\n",
    "research_features = ['YEAR', 'DISTRICT', 'AGE_CAT', 'GENDER']\n",
    "X = idf[research_features]\n",
    "\n",
    "# print the first 5 rows\n",
    "X.head()"
   ]
  },
  {
   "cell_type": "code",
   "execution_count": 17,
   "metadata": {},
   "outputs": [
    {
     "name": "stdout",
     "output_type": "stream",
     "text": [
      "<class 'pandas.core.frame.DataFrame'>\n",
      "(1186, 4)\n"
     ]
    }
   ],
   "source": [
    "# check the type and shape of X\n",
    "print(type(X))\n",
    "print(X.shape)"
   ]
  },
  {
   "cell_type": "code",
   "execution_count": 18,
   "metadata": {},
   "outputs": [
    {
     "data": {
      "text/plain": [
       "0    855062.028956\n",
       "1    813022.301643\n",
       "2    153121.937250\n",
       "3    138254.059477\n",
       "4    174140.700658\n",
       "Name: COUNT, dtype: float64"
      ]
     },
     "execution_count": 18,
     "metadata": {},
     "output_type": "execute_result"
    }
   ],
   "source": [
    "# select a Series from the DataFrame\n",
    "y = idf['COUNT']\n",
    "\n",
    "# print the first 5 values\n",
    "y.head()"
   ]
  },
  {
   "cell_type": "code",
   "execution_count": 19,
   "metadata": {},
   "outputs": [
    {
     "name": "stdout",
     "output_type": "stream",
     "text": [
      "<class 'pandas.core.series.Series'>\n",
      "(1186,)\n"
     ]
    }
   ],
   "source": [
    "# check the type and shape of y\n",
    "print(type(y))\n",
    "print(y.shape)"
   ]
  },
  {
   "cell_type": "markdown",
   "metadata": {},
   "source": [
    "## Splitting X and y into training and testing sets"
   ]
  },
  {
   "cell_type": "code",
   "execution_count": 20,
   "metadata": {},
   "outputs": [],
   "source": [
    "from sklearn.model_selection import train_test_split\n",
    "X_train, X_test, y_train, y_test = train_test_split(X, y, random_state=1,test_size=0.2)"
   ]
  },
  {
   "cell_type": "code",
   "execution_count": 21,
   "metadata": {},
   "outputs": [
    {
     "name": "stdout",
     "output_type": "stream",
     "text": [
      "(948, 4)\n",
      "(948,)\n",
      "(238, 4)\n",
      "(238,)\n"
     ]
    }
   ],
   "source": [
    "# default split is 80% for training and 20% for testing\n",
    "print(X_train.shape)\n",
    "print(y_train.shape)\n",
    "print(X_test.shape)\n",
    "print(y_test.shape)"
   ]
  },
  {
   "cell_type": "markdown",
   "metadata": {},
   "source": [
    "## Scaling Data"
   ]
  },
  {
   "cell_type": "code",
   "execution_count": 22,
   "metadata": {},
   "outputs": [],
   "source": [
    "from sklearn.preprocessing import StandardScaler\n",
    "\n",
    "scaler = StandardScaler()\n",
    "scaler.fit(X_train)\n",
    "X_train = scaler.transform(X_train)\n",
    "X_test = scaler.transform(X_test)"
   ]
  },
  {
   "cell_type": "markdown",
   "metadata": {},
   "source": [
    "## Finding the best linear regression algorithm"
   ]
  },
  {
   "cell_type": "code",
   "execution_count": 23,
   "metadata": {},
   "outputs": [],
   "source": [
    "#import sklearn regression models\n",
    "from sklearn.linear_model import LinearRegression, Ridge, Lasso, ElasticNet, Lars, OrthogonalMatchingPursuit, BayesianRidge, ARDRegression, SGDRegressor, PassiveAggressiveRegressor, RANSACRegressor, TheilSenRegressor, HuberRegressor\n",
    "from sklearn.tree import DecisionTreeRegressor\n",
    "from sklearn.gaussian_process import GaussianProcessRegressor\n",
    "from sklearn.neural_network import MLPRegressor\n",
    "from sklearn.neighbors import KNeighborsRegressor, RadiusNeighborsRegressor\n",
    "from sklearn.svm import SVR, NuSVR, LinearSVR\n",
    "from sklearn.kernel_ridge import KernelRidge\n",
    "from sklearn.ensemble import RandomForestRegressor\n",
    "\n",
    "#Dictionary of all models. All models intialized with no args. Can modify any of them to test various args.\n",
    "# Error: 'RadiusNeighborsRegressor': RadiusNeighborsRegressor(),\n",
    "models = {'LinearRegression': LinearRegression(),\n",
    "          'Ridge': Ridge(),\n",
    "          'ARDRegression': ARDRegression(),\n",
    "          'GaussianProcessRegressor': GaussianProcessRegressor(),\n",
    "          'TheilSenRegressor': TheilSenRegressor(),\n",
    "          'SGDRegressor': SGDRegressor(),\n",
    "          'KernelRidge': KernelRidge(),\n",
    "          'RANSACRegressor': RANSACRegressor(),\n",
    "          'Lasso': Lasso(),\n",
    "          'ElasticNet': ElasticNet(),\n",
    "          'Lars': Lars(),\n",
    "          'OrthogonalMatchingPursuit': OrthogonalMatchingPursuit(),\n",
    "          'BayesianRidge': BayesianRidge(),\n",
    "          'PassiveAggressiveRegressor': PassiveAggressiveRegressor(),\n",
    "          'HuberRegressor': HuberRegressor(),\n",
    "          'DecisionTreeRegressor': DecisionTreeRegressor(),\n",
    "          'KNeighborsRegressor': KNeighborsRegressor(),\n",
    "          'SVR': SVR(gamma='scale'),\n",
    "          'NuSVR': NuSVR(gamma='scale'),\n",
    "          'LinearSVR': LinearSVR(),\n",
    "          'RandomForestRegressor': RandomForestRegressor(n_estimators=500, oob_score=True, random_state=100)\n",
    "         }"
   ]
  },
  {
   "cell_type": "markdown",
   "metadata": {},
   "source": [
    "### NOTE: Non-linear Regressors\n",
    "#### Decision Trees\n",
    "Decision Trees, also referred to as Classification and Regression Trees (CART), work for both categorical and continuous input and output variables. It works by splitting the data into two or more homogeneous sets based on the most significant splitter among the independent variables. The best differentiator is the one that minimizes the cost metric. The cost metrics for a classification tree is often the entropy or the gini index, whereas, for a regression tree, the default metric is the mean squared error.\n",
    "#### Random Forest\n",
    "Decision Trees are useful, but the problem is that they often tend to overfit the training data leading to high variances in the test data. Random Forest algorithms overcome this shortcoming by reducing the variance of the decision trees. They are called 'Forest' because they are the collection, or ensemble, of several decision trees. One major difference between a Decision Tree and a Random Forest model is on how the splits happen. In Random Forest, instead of trying splits on all the features, a sample of features is selected for each split, thereby reducing the variance of the model"
   ]
  },
  {
   "cell_type": "markdown",
   "metadata": {},
   "source": [
    "## Model evaluation metrics for regression\n",
    "\n",
    "Evaluation metrics for classification problems, such as **accuracy**, are not useful for regression problems. Instead, we need evaluation metrics designed for comparing continuous values.\n",
    "\n",
    "Let's create some example numeric predictions, and calculate **three common evaluation metrics** for regression problems:\n",
    "\n",
    "**Mean Absolute Error** (MAE) is the mean of the absolute value of the errors:\n",
    "\n",
    "$$\\frac 1n\\sum_{i=1}^n|y_i-\\hat{y}_i|$$\n",
    "\n",
    "**Mean Squared Error** (MSE) is the mean of the squared errors:\n",
    "\n",
    "$$\\frac 1n\\sum_{i=1}^n(y_i-\\hat{y}_i)^2$$\n",
    "\n",
    "**Root Mean Squared Error** (RMSE) is the square root of the mean of the squared errors:\n",
    "\n",
    "$$\\sqrt{\\frac 1n\\sum_{i=1}^n(y_i-\\hat{y}_i)^2}$$\n",
    "\n",
    "Comparing these metrics:\n",
    "\n",
    "- **MAE** is the easiest to understand, because it's the average error.\n",
    "- **MSE** is more popular than MAE, because MSE \"punishes\" larger errors.\n",
    "- **RMSE** is even more popular than MSE, because RMSE is interpretable in the \"y\" units."
   ]
  },
  {
   "cell_type": "code",
   "execution_count": 24,
   "metadata": {},
   "outputs": [
    {
     "name": "stdout",
     "output_type": "stream",
     "text": [
      "LinearRegression Train time: 4.3964385986328126e-05 minutes\n",
      "LinearRegression MSE: 15434554836.301455\n",
      "LinearRegression R2 0.07743474774417625\n",
      "Accuracy: 0.09 (+/- 0.07)\n",
      "\n",
      "Ridge Train time: 1.8854935963948567e-05 minutes\n",
      "Ridge MSE: 15432815632.95116\n",
      "Ridge R2 0.07753870465090962\n",
      "Accuracy: 0.09 (+/- 0.07)\n",
      "\n",
      "ARDRegression Train time: 0.06659597953160604 minutes\n",
      "ARDRegression MSE: 15363411243.160152\n",
      "ARDRegression R2 0.08168719348355191\n",
      "Accuracy: 0.00 (+/- 0.04)\n",
      "\n",
      "GaussianProcessRegressor Train time: 0.000642553965250651 minutes\n",
      "GaussianProcessRegressor MSE: 33465770395.50926\n",
      "GaussianProcessRegressor R2 -1.0003399666735593\n",
      "Accuracy: -139.84 (+/- 339.77)\n",
      "\n",
      "TheilSenRegressor Train time: 0.015454745292663575 minutes\n",
      "TheilSenRegressor MSE: 15265345875.779106\n",
      "TheilSenRegressor R2 0.08754882677035525\n",
      "Accuracy: 0.05 (+/- 0.06)\n",
      "\n",
      "SGDRegressor Train time: 4.125833511352539e-05 minutes\n",
      "SGDRegressor MSE: 15475306045.557734\n",
      "SGDRegressor R2 0.07499893731452745\n",
      "Accuracy: 0.09 (+/- 0.07)\n",
      "\n",
      "KernelRidge Train time: 0.0003742853800455729 minutes\n",
      "KernelRidge MSE: 30120875612.93772\n",
      "KernelRidge R2 -0.8004065230737205\n",
      "Accuracy: -0.55 (+/- 0.16)\n",
      "\n",
      "RANSACRegressor Train time: 0.0007440845171610514 minutes\n",
      "RANSACRegressor MSE: 18055149406.88571\n",
      "RANSACRegressor R2 -0.07920530548139837\n",
      "Accuracy: -0.25 (+/- 0.16)\n",
      "\n",
      "Lasso Train time: 1.2906392415364583e-05 minutes\n",
      "Lasso MSE: 15434476544.274195\n",
      "Lasso R2 0.07743942747123311\n",
      "Accuracy: 0.09 (+/- 0.07)\n",
      "\n",
      "ElasticNet Train time: 1.4340877532958984e-05 minutes\n",
      "ElasticNet MSE: 15208543890.724997\n",
      "ElasticNet R2 0.09094403565236486\n",
      "Accuracy: 0.08 (+/- 0.04)\n",
      "\n",
      "Lars Train time: 2.5475025177001952e-05 minutes\n",
      "Lars MSE: 15434554836.301455\n",
      "Lars R2 0.07743474774417625\n",
      "Accuracy: 0.09 (+/- 0.07)\n",
      "\n",
      "OrthogonalMatchingPursuit Train time: 1.5854835510253906e-05 minutes\n",
      "OrthogonalMatchingPursuit MSE: 17526997327.20023\n",
      "OrthogonalMatchingPursuit R2 -0.047636221578928106\n",
      "Accuracy: 0.03 (+/- 0.05)\n",
      "\n",
      "BayesianRidge Train time: 2.4346510569254556e-05 minutes\n",
      "BayesianRidge MSE: 15371903295.296843\n",
      "BayesianRidge R2 0.08117960046873895\n",
      "Accuracy: 0.09 (+/- 0.07)\n",
      "\n",
      "PassiveAggressiveRegressor Train time: 0.0005239526430765788 minutes\n"
     ]
    },
    {
     "name": "stderr",
     "output_type": "stream",
     "text": [
      "/home/asitha/anaconda3/lib/python3.7/site-packages/sklearn/linear_model/stochastic_gradient.py:1185: ConvergenceWarning: Maximum number of iteration reached before convergence. Consider increasing max_iter to improve the fit.\n",
      "  ConvergenceWarning)\n"
     ]
    },
    {
     "name": "stdout",
     "output_type": "stream",
     "text": [
      "PassiveAggressiveRegressor MSE: 16595837384.337025\n",
      "PassiveAggressiveRegressor R2 0.00802173659927885\n",
      "Accuracy: -0.05 (+/- 0.08)\n",
      "\n",
      "HuberRegressor Train time: 7.652839024861654e-05 minutes\n",
      "HuberRegressor MSE: 15768014408.472328\n",
      "HuberRegressor R2 0.057502963667489526\n",
      "Accuracy: -0.01 (+/- 0.08)\n",
      "\n",
      "DecisionTreeRegressor Train time: 3.0517578125e-05 minutes\n",
      "DecisionTreeRegressor MSE: 1143707572.9780726\n",
      "DecisionTreeRegressor R2 0.9316374928358961\n",
      "Accuracy: 0.92 (+/- 0.17)\n",
      "\n",
      "KNeighborsRegressor Train time: 1.713434855143229e-05 minutes\n",
      "KNeighborsRegressor MSE: 6276451760.02299\n",
      "KNeighborsRegressor R2 0.6248394357550082\n",
      "Accuracy: 0.71 (+/- 0.09)\n",
      "\n",
      "SVR Train time: 0.00047664244969685874 minutes\n",
      "SVR MSE: 19340856688.208763\n",
      "SVR R2 -0.1560555207873282\n",
      "Accuracy: -0.16 (+/- 0.07)\n",
      "\n",
      "NuSVR Train time: 0.00043152570724487306 minutes\n",
      "NuSVR MSE: 17170402630.038916\n",
      "NuSVR R2 -0.02632158826239328\n",
      "Accuracy: -0.05 (+/- 0.05)\n",
      "\n",
      "LinearSVR Train time: 1.625219980875651e-05 minutes\n",
      "LinearSVR MSE: 30404370842.611526\n",
      "LinearSVR R2 -0.8173518027303905\n",
      "Accuracy: -0.64 (+/- 0.12)\n",
      "\n",
      "RandomForestRegressor Train time: 0.010941259066263835 minutes\n",
      "RandomForestRegressor MSE: 1202571228.0523112\n",
      "RandomForestRegressor R2 0.9281190523386983\n",
      "Accuracy: 0.92 (+/- 0.09)\n",
      "\n"
     ]
    }
   ],
   "source": [
    "#Import non-sklearn packages\n",
    "import numpy as np\n",
    "import time\n",
    "from sklearn.metrics import mean_squared_error, r2_score\n",
    "from sklearn.model_selection import cross_val_score\n",
    "\n",
    "print_coef = False\n",
    "\n",
    "for key, model in models.items():\n",
    "    begin = time.time()\n",
    "    model.fit(X_train,y_train)\n",
    "    print(key + ' Train time: ' + str((time.time() - begin)/60) + \" minutes\")\n",
    "    preds = model.predict(X_test)\n",
    "    mse = mean_squared_error(y_test,preds)\n",
    "    r2 = r2_score(y_test,preds)\n",
    "    scores = cross_val_score(model, X_train, y_train, cv=5)\n",
    "    print(key + ' MSE: ' + str(mse))\n",
    "    print(key + ' R2 ' + str(r2))\n",
    "    print(\"Accuracy: %0.2f (+/- %0.2f)\" % (scores.mean(), scores.std() * 2))\n",
    "    if print_coef:\n",
    "        print('Coefficients:')\n",
    "        print(model.coef_)\n",
    "    print('')"
   ]
  },
  {
   "cell_type": "markdown",
   "metadata": {},
   "source": [
    "### Select the best model (Which has the hieghest accuary and heighest speed)"
   ]
  },
  {
   "cell_type": "code",
   "execution_count": 25,
   "metadata": {},
   "outputs": [
    {
     "name": "stdout",
     "output_type": "stream",
     "text": [
      "RandomForestRegressor Train time: 0.011069838205973308 minutes\n",
      "RandomForestRegressor MSE: 1202571228.0523112\n",
      "RandomForestRegressor R2 0.9281190523386983\n",
      "Accuracy: 0.92 (+/- 0.09)\n"
     ]
    }
   ],
   "source": [
    "begin = time.time()\n",
    "best_model = RandomForestRegressor(n_estimators=500, oob_score=True, random_state=100)\n",
    "best_model_name = 'RandomForestRegressor'\n",
    "best_model.fit(X_train,y_train)\n",
    "print(best_model_name + ' Train time: ' + str((time.time() - begin)/60) + \" minutes\")\n",
    "preds = best_model.predict(X_test)\n",
    "mse = mean_squared_error(y_test,preds)\n",
    "r2 = r2_score(y_test,preds)\n",
    "scores = cross_val_score(best_model, X_train, y_train, cv=5)\n",
    "print(best_model_name + ' MSE: ' + str(mse))\n",
    "print(best_model_name + ' R2 ' + str(r2))\n",
    "print(\"Accuracy: %0.2f (+/- %0.2f)\" % (scores.mean(), scores.std() * 2))"
   ]
  },
  {
   "cell_type": "code",
   "execution_count": 26,
   "metadata": {},
   "outputs": [],
   "source": [
    "import pickle\n",
    "# save the model to disk\n",
    "filename = '../models/age.sav'\n",
    "pickle.dump(best_model, open(filename, 'wb'))"
   ]
  },
  {
   "cell_type": "code",
   "execution_count": null,
   "metadata": {},
   "outputs": [],
   "source": []
  }
 ],
 "metadata": {
  "kernelspec": {
   "display_name": "Python 3",
   "language": "python",
   "name": "python3"
  },
  "language_info": {
   "codemirror_mode": {
    "name": "ipython",
    "version": 3
   },
   "file_extension": ".py",
   "mimetype": "text/x-python",
   "name": "python",
   "nbconvert_exporter": "python",
   "pygments_lexer": "ipython3",
   "version": "3.7.3"
  }
 },
 "nbformat": 4,
 "nbformat_minor": 1
}
