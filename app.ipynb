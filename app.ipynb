{
 "cells": [
  {
   "cell_type": "code",
   "execution_count": 1,
   "metadata": {},
   "outputs": [],
   "source": [
    "import os\n",
    "import pickle\n",
    "import pandas as pd\n",
    "from flask import Flask, render_template, request, jsonify\n",
    "from sklearn.preprocessing import StandardScaler"
   ]
  },
  {
   "cell_type": "code",
   "execution_count": 2,
   "metadata": {},
   "outputs": [],
   "source": [
    "age_model = pickle.load(open('models/age.sav', 'rb'))\n",
    "unemployee_model = pickle.load(open('models/unemployee.sav', 'rb'))\n",
    "under_employee_model = pickle.load(open('models/under_employee.sav', 'rb'))"
   ]
  },
  {
   "cell_type": "code",
   "execution_count": 3,
   "metadata": {},
   "outputs": [],
   "source": [
    "app = Flask(__name__, template_folder=\"client/build\", static_folder=\"client/build/static\")\n",
    "app.config['SITE'] = \"http://0.0.0.0:5000/\""
   ]
  },
  {
   "cell_type": "code",
   "execution_count": 4,
   "metadata": {},
   "outputs": [],
   "source": [
    "@app.route('/')\n",
    "def catch_all():\n",
    "    return render_template('index.html')"
   ]
  },
  {
   "cell_type": "code",
   "execution_count": 5,
   "metadata": {},
   "outputs": [],
   "source": [
    "def predict_age_count(input_arr):\n",
    "    preds = age_model.predict(input_arr)\n",
    "    print(preds)\n",
    "# predict_age_count([[2200,11, 1, 2]])"
   ]
  },
  {
   "cell_type": "code",
   "execution_count": 6,
   "metadata": {},
   "outputs": [],
   "source": [
    "def predict_unemployee_count(input_arr):\n",
    "    preds = unemployee_model.predict(input_arr)\n",
    "    print(preds)\n",
    "# predict_unemployee_count([[2200,11, 1, 2]])"
   ]
  },
  {
   "cell_type": "code",
   "execution_count": 7,
   "metadata": {},
   "outputs": [],
   "source": [
    "def predict_under_employee_count(input_arr):\n",
    "    preds = under_employee_model.predict(input_arr)\n",
    "    print(preds)\n",
    "# predict_under_employee_count([[2200,11, 1, 2]])"
   ]
  },
  {
   "cell_type": "code",
   "execution_count": 8,
   "metadata": {
    "scrolled": true
   },
   "outputs": [
    {
     "name": "stdout",
     "output_type": "stream",
     "text": [
      " * Serving Flask app \"__main__\" (lazy loading)\n",
      " * Environment: production\n",
      "   WARNING: This is a development server. Do not use it in a production deployment.\n",
      "   Use a production WSGI server instead.\n",
      " * Debug mode: off\n"
     ]
    },
    {
     "name": "stderr",
     "output_type": "stream",
     "text": [
      " * Running on http://0.0.0.0:5000/ (Press CTRL+C to quit)\n",
      "127.0.0.1 - - [05/Jan/2020 00:06:46] \"\u001b[37mGET / HTTP/1.1\u001b[0m\" 200 -\n",
      "127.0.0.1 - - [05/Jan/2020 00:06:46] \"\u001b[37mGET /static/js/2.e64bdf36.chunk.js HTTP/1.1\u001b[0m\" 200 -\n",
      "127.0.0.1 - - [05/Jan/2020 00:06:46] \"\u001b[37mGET /static/js/main.59c53cc2.chunk.js HTTP/1.1\u001b[0m\" 200 -\n",
      "127.0.0.1 - - [05/Jan/2020 00:06:46] \"\u001b[37mGET /static/css/main.5e6a32fa.chunk.css HTTP/1.1\u001b[0m\" 200 -\n",
      "127.0.0.1 - - [05/Jan/2020 00:06:46] \"\u001b[37mGET /static/css/2.d0176e96.chunk.css HTTP/1.1\u001b[0m\" 200 -\n",
      "127.0.0.1 - - [05/Jan/2020 00:06:47] \"\u001b[37mGET /static/media/sidebar-2.7450d48b.jpg HTTP/1.1\u001b[0m\" 200 -\n",
      "127.0.0.1 - - [05/Jan/2020 00:06:48] \"\u001b[33mGET /apple-icon.png HTTP/1.1\u001b[0m\" 404 -\n",
      "127.0.0.1 - - [05/Jan/2020 00:06:48] \"\u001b[33mGET /favicon.ico HTTP/1.1\u001b[0m\" 404 -\n"
     ]
    }
   ],
   "source": [
    "if __name__ == '__main__':\n",
    "    port = int(os.environ.get(\"PORT\", 5000))\n",
    "    app.run(host='0.0.0.0', port=port)"
   ]
  },
  {
   "cell_type": "code",
   "execution_count": null,
   "metadata": {},
   "outputs": [],
   "source": []
  },
  {
   "cell_type": "code",
   "execution_count": null,
   "metadata": {},
   "outputs": [],
   "source": []
  }
 ],
 "metadata": {
  "kernelspec": {
   "display_name": "Python 3",
   "language": "python",
   "name": "python3"
  },
  "language_info": {
   "codemirror_mode": {
    "name": "ipython",
    "version": 3
   },
   "file_extension": ".py",
   "mimetype": "text/x-python",
   "name": "python",
   "nbconvert_exporter": "python",
   "pygments_lexer": "ipython3",
   "version": "3.7.3"
  },
  "pycharm": {
   "stem_cell": {
    "cell_type": "raw",
    "metadata": {
     "collapsed": false
    },
    "source": []
   }
  }
 },
 "nbformat": 4,
 "nbformat_minor": 2
}
