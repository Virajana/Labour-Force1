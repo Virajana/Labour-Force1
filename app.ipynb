{
 "cells": [
  {
   "cell_type": "code",
   "execution_count": 75,
   "metadata": {},
   "outputs": [],
   "source": [
    "import os\n",
    "import pickle\n",
    "import pandas as pd\n",
    "from flask import Flask, render_template, request, jsonify\n",
    "from sklearn.preprocessing import StandardScaler\n",
    "from flask_cors import CORS, cross_origin"
   ]
  },
  {
   "cell_type": "code",
   "execution_count": 76,
   "metadata": {},
   "outputs": [],
   "source": [
    "age_model = pickle.load(open('models/age.sav', 'rb'))\n",
    "unemployee_model = pickle.load(open('models/unemployee.sav', 'rb'))\n",
    "under_employee_model = pickle.load(open('models/under_employee.sav', 'rb'))"
   ]
  },
  {
   "cell_type": "code",
   "execution_count": 77,
   "metadata": {},
   "outputs": [],
   "source": [
    "app = Flask(__name__, template_folder=\"client/build\", static_folder=\"client/build/static\")\n",
    "app.config['SITE'] = \"http://0.0.0.0:5000/\""
   ]
  },
  {
   "cell_type": "code",
   "execution_count": 78,
   "metadata": {},
   "outputs": [],
   "source": [
    "@cross_origin()\n",
    "@app.route('/', defaults={'path': ''})\n",
    "@app.route('/<path:path>')\n",
    "def catch_all(path):\n",
    "    \"\"\" This is a catch all that is required for react-router \"\"\"\n",
    "    return render_template('index.html')\n"
   ]
  },
  {
   "cell_type": "code",
   "execution_count": 86,
   "metadata": {},
   "outputs": [
    {
     "name": "stdout",
     "output_type": "stream",
     "text": [
      "{'result': [293815.839716585]}\n"
     ]
    }
   ],
   "source": [
    "# @cross_origin()\n",
    "# @app.route('/agestructure',methods=['POST'])\n",
    "# def predict_age_count():\n",
    "#     input_arr=[]\n",
    "#     input_arr.append(request.json['year'])\n",
    "#     input_arr.append(request.json['district'])\n",
    "#     input_arr.append(request.json['agecategory'])\n",
    "#     input_arr.append(request.json['gender'])\n",
    "#     input_arr1=[]\n",
    "#     input_arr1.append(input_arr)\n",
    "#     predict_result = age_model.predict(input_arr1).tolist()\n",
    "#     result={\"result\":predict_result}\n",
    "#     print(result)\n",
    "#     return jsonify(result)\n",
    "\n",
    "# @cross_origin()\n",
    "# @app.route('/agestructure',methods=['POST'])\n",
    "def predict_age_count():\n",
    "#     input_arr=[]\n",
    "#     input_arr.append(request.json['year'])\n",
    "#     input_arr.append(request.json['district'])\n",
    "#     input_arr.append(request.json['agecategory'])\n",
    "#     input_arr.append(request.json['gender'])\n",
    "    input_arr1=[[2021, 0,1,0,0,0,0,0,0,0,0,0,0,0,0,0,0,0,0,0,0,0,0,0,0,0,1,0,0,0,1,0]]\n",
    "#     input_arr1.append(input_arr)\n",
    "    predict_result = age_model.predict(input_arr1).tolist()\n",
    "    result={\"result\":predict_result}\n",
    "    print(result)\n",
    "#     return jsonify(result)\n",
    "predict_age_count()"
   ]
  },
  {
   "cell_type": "code",
   "execution_count": null,
   "metadata": {},
   "outputs": [],
   "source": [
    "@cross_origin()\n",
    "@app.route('/unemployee',methods=['POST'])\n",
    "def predict_unemployee_count():\n",
    "    input_arr=[]\n",
    "    input_arr.append(request.json['year'])\n",
    "    input_arr.append(request.json['district'])\n",
    "    input_arr.append(request.json['agecategory'])\n",
    "    input_arr.append(request.json['gender'])\n",
    "    input_arr1=[]\n",
    "    input_arr1.append(input_arr)\n",
    "    predict_result = unemployee_model.predict(input_arr1).tolist()\n",
    "    result={\"result\":predict_result}\n",
    "    return jsonify(result)\n",
    "# predict_unemployee_count([[2200,11, 1, 2]])"
   ]
  },
  {
   "cell_type": "code",
   "execution_count": null,
   "metadata": {},
   "outputs": [],
   "source": [
    "@cross_origin()\n",
    "@app.route('/underemployee',methods=['POST'])\n",
    "def predict_under_employee_count():\n",
    "    input_arr=[]\n",
    "    input_arr.append(request.json['year'])\n",
    "    input_arr.append(request.json['district'])\n",
    "    input_arr.append(request.json['agecategory'])\n",
    "    input_arr.append(request.json['gender'])\n",
    "    input_arr1=[]\n",
    "    input_arr1.append(input_arr)\n",
    "    predict_result = under_employee_model.predict(input_arr1).tolist()\n",
    "    result={\"result\":predict_result}\n",
    "    return jsonify(result)\n",
    "# predict_under_employee_count([[2200,11, 1, 2]])"
   ]
  },
  {
   "cell_type": "code",
   "execution_count": null,
   "metadata": {
    "scrolled": true
   },
   "outputs": [],
   "source": [
    "if __name__ == '__main__':\n",
    "    cors = CORS(app)\n",
    "    app.config['CORS_HEADERS'] = 'Content-Type'\n",
    "    port = int(os.environ.get(\"PORT\", 5000))\n",
    "    app.run(host='0.0.0.0', port=port)"
   ]
  },
  {
   "cell_type": "code",
   "execution_count": null,
   "metadata": {},
   "outputs": [],
   "source": []
  },
  {
   "cell_type": "code",
   "execution_count": null,
   "metadata": {},
   "outputs": [],
   "source": []
  },
  {
   "cell_type": "code",
   "execution_count": null,
   "metadata": {},
   "outputs": [],
   "source": []
  }
 ],
 "metadata": {
  "kernelspec": {
   "display_name": "Python 3",
   "language": "python",
   "name": "python3"
  },
  "language_info": {
   "codemirror_mode": {
    "name": "ipython",
    "version": 3
   },
   "file_extension": ".py",
   "mimetype": "text/x-python",
   "name": "python",
   "nbconvert_exporter": "python",
   "pygments_lexer": "ipython3",
   "version": "3.7.3"
  },
  "pycharm": {
   "stem_cell": {
    "cell_type": "raw",
    "metadata": {
     "collapsed": false
    },
    "source": []
   }
  }
 },
 "nbformat": 4,
 "nbformat_minor": 2
}
