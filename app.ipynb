{
 "cells": [
  {
   "cell_type": "code",
   "execution_count": null,
   "metadata": {},
   "outputs": [],
   "source": [
    "import os\n",
    "import pickle\n",
    "import pandas as pd\n",
    "from flask import Flask, render_template, request, jsonify\n",
    "from sklearn.preprocessing import StandardScaler\n",
    "from flask_cors import CORS, cross_origin\n"
   ]
  },
  {
   "cell_type": "code",
   "execution_count": 2,
   "metadata": {},
   "outputs": [
    {
     "name": "stderr",
     "output_type": "stream",
     "text": [
      "/home/lahiru/anaconda3/lib/python3.7/site-packages/sklearn/base.py:306: UserWarning: Trying to unpickle estimator DecisionTreeRegressor from version 0.21.2 when using version 0.21.3. This might lead to breaking code or invalid results. Use at your own risk.\n",
      "  UserWarning)\n",
      "/home/lahiru/anaconda3/lib/python3.7/site-packages/sklearn/base.py:306: UserWarning: Trying to unpickle estimator RandomForestRegressor from version 0.21.2 when using version 0.21.3. This might lead to breaking code or invalid results. Use at your own risk.\n",
      "  UserWarning)\n"
     ]
    }
   ],
   "source": [
    "age_model = pickle.load(open('models/age.sav', 'rb'))\n",
    "unemployee_model = pickle.load(open('models/unemployee.sav', 'rb'))\n",
    "under_employee_model = pickle.load(open('models/under_employee.sav', 'rb'))"
   ]
  },
  {
   "cell_type": "code",
   "execution_count": 3,
   "metadata": {},
   "outputs": [],
   "source": [
    "app = Flask(__name__, template_folder=\"client/build\", static_folder=\"client/build/static\")\n",
    "app.config['SITE'] = \"http://0.0.0.0:5000/\""
   ]
  },
  {
   "cell_type": "code",
   "execution_count": 4,
   "metadata": {},
   "outputs": [],
   "source": [
    "@cross_origin()\n",
    "@app.route('/')\n",
    "def catch_all():\n",
    "    return render_template('index.html')"
   ]
  },
  {
   "cell_type": "code",
   "execution_count": 5,
   "metadata": {},
   "outputs": [],
   "source": [
    "@cross_origin()\n",
    "@app.route('/agestructure',methods=['POST'])\n",
    "def predict_age_count():\n",
    "    input_arr=[]\n",
    "    input_arr.append(request.json['year'])\n",
    "    input_arr.append(request.json['district'])\n",
    "    input_arr.append(request.json['agecategory'])\n",
    "    input_arr.append(request.json['gender'])\n",
    "    input_arr1=[]\n",
    "    input_arr1.append(input_arr)\n",
    "    predict_result = age_model.predict(input_arr1).tolist()\n",
    "    result={\"result\":predict_result}\n",
    "    return jsonify(result)\n",
    "# predict_age_count([[2200,11, 1, 2]])"
   ]
  },
  {
   "cell_type": "code",
   "execution_count": 6,
   "metadata": {},
   "outputs": [],
   "source": [
    "@cross_origin()\n",
    "@app.route('/unemployee',methods=['POST'])\n",
    "def predict_unemployee_count():\n",
    "    input_arr=[]\n",
    "    input_arr.append(request.json['year'])\n",
    "    input_arr.append(request.json['district'])\n",
    "    input_arr.append(request.json['agecategory'])\n",
    "    input_arr.append(request.json['gender'])\n",
    "    input_arr1=[]\n",
    "    input_arr1.append(input_arr)\n",
    "    predict_result = unemployee_model.predict(input_arr1).tolist()\n",
    "    result={\"result\":predict_result}\n",
    "    return jsonify(result)\n",
    "# predict_unemployee_count([[2200,11, 1, 2]])"
   ]
  },
  {
   "cell_type": "code",
   "execution_count": 7,
   "metadata": {},
   "outputs": [],
   "source": [
    "@cross_origin()\n",
    "@app.route('/underemployee',methods=['POST'])\n",
    "def predict_under_employee_count():\n",
    "    input_arr=[]\n",
    "    input_arr.append(request.json['year'])\n",
    "    input_arr.append(request.json['district'])\n",
    "    input_arr.append(request.json['agecategory'])\n",
    "    input_arr.append(request.json['gender'])\n",
    "    input_arr1=[]\n",
    "    input_arr1.append(input_arr)\n",
    "    predict_result = under_employee_model.predict(input_arr1).tolist()\n",
    "    result={\"result\":predict_result}\n",
    "    return jsonify(result)\n",
    "# predict_under_employee_count([[2200,11, 1, 2]])"
   ]
  },
  {
   "cell_type": "code",
   "execution_count": null,
   "metadata": {
    "scrolled": true
   },
   "outputs": [
    {
     "name": "stdout",
     "output_type": "stream",
     "text": [
      " * Serving Flask app \"__main__\" (lazy loading)\n",
      " * Environment: production\n",
      "   WARNING: This is a development server. Do not use it in a production deployment.\n",
      "   Use a production WSGI server instead.\n",
      " * Debug mode: off\n"
     ]
    },
    {
     "name": "stderr",
     "output_type": "stream",
     "text": [
      " * Running on http://0.0.0.0:5000/ (Press CTRL+C to quit)\n",
      "127.0.0.1 - - [05/Jan/2020 11:14:04] \"OPTIONS /unemployee HTTP/1.1\" 200 -\n",
      "127.0.0.1 - - [05/Jan/2020 11:14:04] \"POST /unemployee HTTP/1.1\" 200 -\n",
      "127.0.0.1 - - [05/Jan/2020 11:16:19] \"OPTIONS /unemployee HTTP/1.1\" 200 -\n",
      "127.0.0.1 - - [05/Jan/2020 11:16:19] \"POST /unemployee HTTP/1.1\" 200 -\n",
      "127.0.0.1 - - [05/Jan/2020 11:17:35] \"OPTIONS /unemployee HTTP/1.1\" 200 -\n",
      "127.0.0.1 - - [05/Jan/2020 11:17:35] \"POST /unemployee HTTP/1.1\" 200 -\n",
      "127.0.0.1 - - [05/Jan/2020 11:17:39] \"POST /unemployee HTTP/1.1\" 200 -\n",
      "127.0.0.1 - - [05/Jan/2020 11:17:43] \"OPTIONS /unemployee HTTP/1.1\" 200 -\n",
      "127.0.0.1 - - [05/Jan/2020 11:17:43] \"POST /unemployee HTTP/1.1\" 200 -\n",
      "127.0.0.1 - - [05/Jan/2020 11:17:46] \"POST /unemployee HTTP/1.1\" 200 -\n",
      "127.0.0.1 - - [05/Jan/2020 11:17:50] \"OPTIONS /unemployee HTTP/1.1\" 200 -\n",
      "127.0.0.1 - - [05/Jan/2020 11:17:50] \"POST /unemployee HTTP/1.1\" 200 -\n",
      "127.0.0.1 - - [05/Jan/2020 11:17:53] \"POST /unemployee HTTP/1.1\" 200 -\n",
      "127.0.0.1 - - [05/Jan/2020 11:23:46] \"OPTIONS /underemployee HTTP/1.1\" 200 -\n",
      "[2020-01-05 11:23:46,658] ERROR in app: Exception on /underemployee [POST]\n",
      "Traceback (most recent call last):\n",
      "  File \"/home/lahiru/anaconda3/lib/python3.7/site-packages/flask/app.py\", line 2446, in wsgi_app\n",
      "    response = self.full_dispatch_request()\n",
      "  File \"/home/lahiru/anaconda3/lib/python3.7/site-packages/flask/app.py\", line 1951, in full_dispatch_request\n",
      "    rv = self.handle_user_exception(e)\n",
      "  File \"/home/lahiru/anaconda3/lib/python3.7/site-packages/flask_cors/extension.py\", line 161, in wrapped_function\n",
      "    return cors_after_request(app.make_response(f(*args, **kwargs)))\n",
      "  File \"/home/lahiru/anaconda3/lib/python3.7/site-packages/flask/app.py\", line 1820, in handle_user_exception\n",
      "    reraise(exc_type, exc_value, tb)\n",
      "  File \"/home/lahiru/anaconda3/lib/python3.7/site-packages/flask/_compat.py\", line 39, in reraise\n",
      "    raise value\n",
      "  File \"/home/lahiru/anaconda3/lib/python3.7/site-packages/flask/app.py\", line 1949, in full_dispatch_request\n",
      "    rv = self.dispatch_request()\n",
      "  File \"/home/lahiru/anaconda3/lib/python3.7/site-packages/flask/app.py\", line 1935, in dispatch_request\n",
      "    return self.view_functions[rule.endpoint](**req.view_args)\n",
      "  File \"<ipython-input-7-81dccc6102f3>\", line 11, in predict_under_employee_count\n",
      "    predict_result = under_employee_model.predict(input_arr1).tolist()\n",
      "  File \"/home/lahiru/anaconda3/lib/python3.7/site-packages/sklearn/ensemble/forest.py\", line 693, in predict\n",
      "    X = self._validate_X_predict(X)\n",
      "  File \"/home/lahiru/anaconda3/lib/python3.7/site-packages/sklearn/ensemble/forest.py\", line 359, in _validate_X_predict\n",
      "    return self.estimators_[0]._validate_X_predict(X, check_input=True)\n",
      "  File \"/home/lahiru/anaconda3/lib/python3.7/site-packages/sklearn/tree/tree.py\", line 391, in _validate_X_predict\n",
      "    X = check_array(X, dtype=DTYPE, accept_sparse=\"csr\")\n",
      "  File \"/home/lahiru/anaconda3/lib/python3.7/site-packages/sklearn/utils/validation.py\", line 496, in check_array\n",
      "    array = np.asarray(array, dtype=dtype, order=order)\n",
      "  File \"/home/lahiru/anaconda3/lib/python3.7/site-packages/numpy/core/_asarray.py\", line 85, in asarray\n",
      "    return array(a, dtype, copy=False, order=order)\n",
      "ValueError: could not convert string to float: \n",
      "127.0.0.1 - - [05/Jan/2020 11:23:46] \"POST /underemployee HTTP/1.1\" 500 -\n",
      "127.0.0.1 - - [05/Jan/2020 11:25:23] \"OPTIONS /underemployee HTTP/1.1\" 200 -\n",
      "127.0.0.1 - - [05/Jan/2020 11:25:23] \"POST /underemployee HTTP/1.1\" 200 -\n",
      "127.0.0.1 - - [05/Jan/2020 11:26:00] \"OPTIONS /unemployee HTTP/1.1\" 200 -\n",
      "127.0.0.1 - - [05/Jan/2020 11:26:00] \"POST /unemployee HTTP/1.1\" 200 -\n",
      "127.0.0.1 - - [05/Jan/2020 11:26:09] \"OPTIONS /underemployee HTTP/1.1\" 200 -\n",
      "127.0.0.1 - - [05/Jan/2020 11:26:09] \"POST /underemployee HTTP/1.1\" 200 -\n",
      "127.0.0.1 - - [05/Jan/2020 11:34:11] \"OPTIONS /unemployee HTTP/1.1\" 200 -\n",
      "127.0.0.1 - - [05/Jan/2020 11:34:11] \"POST /unemployee HTTP/1.1\" 200 -\n",
      "127.0.0.1 - - [05/Jan/2020 11:34:24] \"OPTIONS /underemployee HTTP/1.1\" 200 -\n",
      "127.0.0.1 - - [05/Jan/2020 11:34:24] \"POST /underemployee HTTP/1.1\" 200 -\n",
      "127.0.0.1 - - [05/Jan/2020 11:34:37] \"OPTIONS /agestructure HTTP/1.1\" 200 -\n",
      "127.0.0.1 - - [05/Jan/2020 11:34:37] \"POST /agestructure HTTP/1.1\" 200 -\n",
      "127.0.0.1 - - [05/Jan/2020 12:03:11] \"OPTIONS /unemployee HTTP/1.1\" 200 -\n",
      "127.0.0.1 - - [05/Jan/2020 12:03:11] \"POST /unemployee HTTP/1.1\" 200 -\n",
      "127.0.0.1 - - [05/Jan/2020 12:03:17] \"OPTIONS /unemployee HTTP/1.1\" 200 -\n",
      "127.0.0.1 - - [05/Jan/2020 12:03:17] \"POST /unemployee HTTP/1.1\" 200 -\n",
      "127.0.0.1 - - [05/Jan/2020 12:07:09] \"OPTIONS /agestructure HTTP/1.1\" 200 -\n",
      "127.0.0.1 - - [05/Jan/2020 12:07:09] \"POST /agestructure HTTP/1.1\" 200 -\n",
      "127.0.0.1 - - [05/Jan/2020 12:07:16] \"OPTIONS /underemployee HTTP/1.1\" 200 -\n",
      "127.0.0.1 - - [05/Jan/2020 12:07:16] \"POST /underemployee HTTP/1.1\" 200 -\n",
      "127.0.0.1 - - [05/Jan/2020 12:07:26] \"OPTIONS /unemployee HTTP/1.1\" 200 -\n",
      "[2020-01-05 12:07:26,259] ERROR in app: Exception on /unemployee [POST]\n",
      "Traceback (most recent call last):\n",
      "  File \"/home/lahiru/anaconda3/lib/python3.7/site-packages/flask/app.py\", line 2446, in wsgi_app\n",
      "    response = self.full_dispatch_request()\n",
      "  File \"/home/lahiru/anaconda3/lib/python3.7/site-packages/flask/app.py\", line 1951, in full_dispatch_request\n",
      "    rv = self.handle_user_exception(e)\n",
      "  File \"/home/lahiru/anaconda3/lib/python3.7/site-packages/flask_cors/extension.py\", line 161, in wrapped_function\n",
      "    return cors_after_request(app.make_response(f(*args, **kwargs)))\n",
      "  File \"/home/lahiru/anaconda3/lib/python3.7/site-packages/flask/app.py\", line 1820, in handle_user_exception\n",
      "    reraise(exc_type, exc_value, tb)\n",
      "  File \"/home/lahiru/anaconda3/lib/python3.7/site-packages/flask/_compat.py\", line 39, in reraise\n",
      "    raise value\n",
      "  File \"/home/lahiru/anaconda3/lib/python3.7/site-packages/flask/app.py\", line 1949, in full_dispatch_request\n",
      "    rv = self.dispatch_request()\n",
      "  File \"/home/lahiru/anaconda3/lib/python3.7/site-packages/flask/app.py\", line 1935, in dispatch_request\n",
      "    return self.view_functions[rule.endpoint](**req.view_args)\n",
      "  File \"<ipython-input-6-705a7987f07b>\", line 11, in predict_unemployee_count\n",
      "    predict_result = unemployee_model.predict(input_arr1).tolist()\n",
      "  File \"/home/lahiru/anaconda3/lib/python3.7/site-packages/sklearn/tree/tree.py\", line 430, in predict\n",
      "    X = self._validate_X_predict(X, check_input)\n",
      "  File \"/home/lahiru/anaconda3/lib/python3.7/site-packages/sklearn/tree/tree.py\", line 391, in _validate_X_predict\n",
      "    X = check_array(X, dtype=DTYPE, accept_sparse=\"csr\")\n",
      "  File \"/home/lahiru/anaconda3/lib/python3.7/site-packages/sklearn/utils/validation.py\", line 496, in check_array\n",
      "    array = np.asarray(array, dtype=dtype, order=order)\n",
      "  File \"/home/lahiru/anaconda3/lib/python3.7/site-packages/numpy/core/_asarray.py\", line 85, in asarray\n",
      "    return array(a, dtype, copy=False, order=order)\n",
      "ValueError: could not convert string to float: \n",
      "127.0.0.1 - - [05/Jan/2020 12:07:26] \"POST /unemployee HTTP/1.1\" 500 -\n",
      "127.0.0.1 - - [05/Jan/2020 12:07:33] \"OPTIONS /unemployee HTTP/1.1\" 200 -\n",
      "[2020-01-05 12:07:33,197] ERROR in app: Exception on /unemployee [POST]\n",
      "Traceback (most recent call last):\n",
      "  File \"/home/lahiru/anaconda3/lib/python3.7/site-packages/flask/app.py\", line 2446, in wsgi_app\n",
      "    response = self.full_dispatch_request()\n",
      "  File \"/home/lahiru/anaconda3/lib/python3.7/site-packages/flask/app.py\", line 1951, in full_dispatch_request\n",
      "    rv = self.handle_user_exception(e)\n",
      "  File \"/home/lahiru/anaconda3/lib/python3.7/site-packages/flask_cors/extension.py\", line 161, in wrapped_function\n",
      "    return cors_after_request(app.make_response(f(*args, **kwargs)))\n",
      "  File \"/home/lahiru/anaconda3/lib/python3.7/site-packages/flask/app.py\", line 1820, in handle_user_exception\n",
      "    reraise(exc_type, exc_value, tb)\n",
      "  File \"/home/lahiru/anaconda3/lib/python3.7/site-packages/flask/_compat.py\", line 39, in reraise\n",
      "    raise value\n",
      "  File \"/home/lahiru/anaconda3/lib/python3.7/site-packages/flask/app.py\", line 1949, in full_dispatch_request\n",
      "    rv = self.dispatch_request()\n",
      "  File \"/home/lahiru/anaconda3/lib/python3.7/site-packages/flask/app.py\", line 1935, in dispatch_request\n",
      "    return self.view_functions[rule.endpoint](**req.view_args)\n",
      "  File \"<ipython-input-6-705a7987f07b>\", line 11, in predict_unemployee_count\n",
      "    predict_result = unemployee_model.predict(input_arr1).tolist()\n",
      "  File \"/home/lahiru/anaconda3/lib/python3.7/site-packages/sklearn/tree/tree.py\", line 430, in predict\n",
      "    X = self._validate_X_predict(X, check_input)\n",
      "  File \"/home/lahiru/anaconda3/lib/python3.7/site-packages/sklearn/tree/tree.py\", line 391, in _validate_X_predict\n",
      "    X = check_array(X, dtype=DTYPE, accept_sparse=\"csr\")\n",
      "  File \"/home/lahiru/anaconda3/lib/python3.7/site-packages/sklearn/utils/validation.py\", line 496, in check_array\n",
      "    array = np.asarray(array, dtype=dtype, order=order)\n",
      "  File \"/home/lahiru/anaconda3/lib/python3.7/site-packages/numpy/core/_asarray.py\", line 85, in asarray\n",
      "    return array(a, dtype, copy=False, order=order)\n",
      "ValueError: could not convert string to float: \n"
     ]
    },
    {
     "name": "stderr",
     "output_type": "stream",
     "text": [
      "127.0.0.1 - - [05/Jan/2020 12:07:33] \"POST /unemployee HTTP/1.1\" 500 -\n",
      "127.0.0.1 - - [05/Jan/2020 12:07:39] \"OPTIONS /unemployee HTTP/1.1\" 200 -\n",
      "[2020-01-05 12:07:39,356] ERROR in app: Exception on /unemployee [POST]\n",
      "Traceback (most recent call last):\n",
      "  File \"/home/lahiru/anaconda3/lib/python3.7/site-packages/flask/app.py\", line 2446, in wsgi_app\n",
      "    response = self.full_dispatch_request()\n",
      "  File \"/home/lahiru/anaconda3/lib/python3.7/site-packages/flask/app.py\", line 1951, in full_dispatch_request\n",
      "    rv = self.handle_user_exception(e)\n",
      "  File \"/home/lahiru/anaconda3/lib/python3.7/site-packages/flask_cors/extension.py\", line 161, in wrapped_function\n",
      "    return cors_after_request(app.make_response(f(*args, **kwargs)))\n",
      "  File \"/home/lahiru/anaconda3/lib/python3.7/site-packages/flask/app.py\", line 1820, in handle_user_exception\n",
      "    reraise(exc_type, exc_value, tb)\n",
      "  File \"/home/lahiru/anaconda3/lib/python3.7/site-packages/flask/_compat.py\", line 39, in reraise\n",
      "    raise value\n",
      "  File \"/home/lahiru/anaconda3/lib/python3.7/site-packages/flask/app.py\", line 1949, in full_dispatch_request\n",
      "    rv = self.dispatch_request()\n",
      "  File \"/home/lahiru/anaconda3/lib/python3.7/site-packages/flask/app.py\", line 1935, in dispatch_request\n",
      "    return self.view_functions[rule.endpoint](**req.view_args)\n",
      "  File \"<ipython-input-6-705a7987f07b>\", line 11, in predict_unemployee_count\n",
      "    predict_result = unemployee_model.predict(input_arr1).tolist()\n",
      "  File \"/home/lahiru/anaconda3/lib/python3.7/site-packages/sklearn/tree/tree.py\", line 430, in predict\n",
      "    X = self._validate_X_predict(X, check_input)\n",
      "  File \"/home/lahiru/anaconda3/lib/python3.7/site-packages/sklearn/tree/tree.py\", line 391, in _validate_X_predict\n",
      "    X = check_array(X, dtype=DTYPE, accept_sparse=\"csr\")\n",
      "  File \"/home/lahiru/anaconda3/lib/python3.7/site-packages/sklearn/utils/validation.py\", line 496, in check_array\n",
      "    array = np.asarray(array, dtype=dtype, order=order)\n",
      "  File \"/home/lahiru/anaconda3/lib/python3.7/site-packages/numpy/core/_asarray.py\", line 85, in asarray\n",
      "    return array(a, dtype, copy=False, order=order)\n",
      "ValueError: could not convert string to float: \n",
      "127.0.0.1 - - [05/Jan/2020 12:07:39] \"POST /unemployee HTTP/1.1\" 500 -\n",
      "127.0.0.1 - - [05/Jan/2020 12:07:45] \"OPTIONS /unemployee HTTP/1.1\" 200 -\n",
      "127.0.0.1 - - [05/Jan/2020 12:07:45] \"POST /unemployee HTTP/1.1\" 200 -\n"
     ]
    }
   ],
   "source": [
    "if __name__ == '__main__':\n",
    "    cors = CORS(app)\n",
    "    app.config['CORS_HEADERS'] = 'Content-Type'\n",
    "    port = int(os.environ.get(\"PORT\", 5000))\n",
    "    app.run(host='0.0.0.0', port=port)"
   ]
  },
  {
   "cell_type": "code",
   "execution_count": null,
   "metadata": {},
   "outputs": [],
   "source": []
  },
  {
   "cell_type": "code",
   "execution_count": null,
   "metadata": {},
   "outputs": [],
   "source": []
  },
  {
   "cell_type": "code",
   "execution_count": null,
   "metadata": {},
   "outputs": [],
   "source": []
  }
 ],
 "metadata": {
  "kernelspec": {
   "display_name": "Python 3",
   "language": "python",
   "name": "python3"
  },
  "language_info": {
   "codemirror_mode": {
    "name": "ipython",
    "version": 3
   },
   "file_extension": ".py",
   "mimetype": "text/x-python",
   "name": "python",
   "nbconvert_exporter": "python",
   "pygments_lexer": "ipython3",
   "version": "3.7.4"
  },
  "pycharm": {
   "stem_cell": {
    "cell_type": "raw",
    "metadata": {
     "collapsed": false
    },
    "source": []
   }
  }
 },
 "nbformat": 4,
 "nbformat_minor": 2
}
