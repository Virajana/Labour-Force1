{
 "cells": [
  {
   "cell_type": "code",
   "execution_count": null,
   "metadata": {},
   "outputs": [],
   "source": [
    "import os\n",
    "import pickle\n",
    "import pandas as pd\n",
    "from flask import Flask, render_template, request, jsonify\n",
    "from sklearn.preprocessing import StandardScaler\n",
    "from flask_cors import CORS, cross_origin\n",
    "from sklearn.preprocessing import OneHotEncoder"
   ]
  },
  {
   "cell_type": "code",
   "execution_count": null,
   "metadata": {},
   "outputs": [],
   "source": [
    "age_model = pickle.load(open('models/age.sav', 'rb'))\n",
    "unemployee_model = pickle.load(open('models/unemployee.sav', 'rb'))\n",
    "under_employee_model = pickle.load(open('models/under_employee.sav', 'rb'))"
   ]
  },
  {
   "cell_type": "code",
   "execution_count": null,
   "metadata": {},
   "outputs": [],
   "source": [
    "dis_data = [11,12,13,21,22,23,31,32,33,41,42,43,44,45,51,52,53,61,62,71,72,81,82,91,92]\n",
    "age_cats_data = [1,2,3]\n",
    "genders_a_data = [1,1.5,2]\n",
    "genders_b_data = [1,2]"
   ]
  },
  {
   "cell_type": "code",
   "execution_count": null,
   "metadata": {},
   "outputs": [],
   "source": [
    "districts = pd.DataFrame({'district': dis_data})\n",
    "age_cats = pd.DataFrame({'age_cat': age_cats_data})\n",
    "genders_a = pd.DataFrame({'gend_a': genders_a_data})\n",
    "genders_b = pd.DataFrame({'gend_b': genders_b_data})"
   ]
  },
  {
   "cell_type": "code",
   "execution_count": null,
   "metadata": {},
   "outputs": [],
   "source": [
    "enced_dis = pd.get_dummies(districts.district, prefix='dis')\n",
    "enced_age_cats = pd.get_dummies(age_cats.age_cat, prefix='age_cat')\n",
    "enced_gender_a = pd.get_dummies(genders_a.gend_a, prefix='gend_a')\n",
    "enced_gender_b = pd.get_dummies(genders_b.gend_b, prefix='gend_b')"
   ]
  },
  {
   "cell_type": "code",
   "execution_count": null,
   "metadata": {},
   "outputs": [],
   "source": [
    "app = Flask(__name__, template_folder=\"client/build\", static_folder=\"client/build/static\")\n",
    "app.config['SITE'] = \"http://0.0.0.0:5000/\""
   ]
  },
  {
   "cell_type": "code",
   "execution_count": null,
   "metadata": {},
   "outputs": [],
   "source": [
    "@cross_origin()\n",
    "@app.route('/', defaults={'path': ''})\n",
    "@app.route('/<path:path>')\n",
    "def catch_all(path):\n",
    "    \"\"\" This is a catch all that is required for react-router \"\"\"\n",
    "    return render_template('index.html')\n"
   ]
  },
  {
   "cell_type": "code",
   "execution_count": null,
   "metadata": {},
   "outputs": [],
   "source": [
    "@cross_origin()\n",
    "@app.route('/agestructure',methods=['POST'])\n",
    "def predict_age_count():\n",
    "    input_arr=[]\n",
    "    input_arr.append(request.json['year'])\n",
    "    input_arr = input_arr+ list(enced_dis.loc[dis_data.index(request.json['district']),:])\n",
    "    input_arr = input_arr+ list(enced_age_cats.loc[age_cats_data.index(request.json['agecategory']),:])\n",
    "    input_arr = input_arr+ list(enced_gender_a.loc[genders_a_data.index(request.json['gender']),:])\n",
    "    \n",
    "    input_arr1=[]\n",
    "    input_arr1.append(input_arr)\n",
    "    print(request.json)\n",
    "    print(input_arr1)\n",
    "    predict_result = age_model.predict(input_arr1).tolist()\n",
    "    result={\"result\":predict_result}\n",
    "    return jsonify(result)\n",
    "\n",
    "# def predict_age_count():\n",
    "#     input_arr1=[[2028, 0,0,0,0,0,0,0,0,0,0,0,0,0,0,0,0,0,0,0,0,0,0,0,0,1,1,0,0,0,0,1]]\n",
    "#     predict_result = age_model.predict(input_arr1).tolist()\n",
    "#     result={\"result\":predict_result}\n",
    "#     print(result)\n",
    "# predict_age_count()"
   ]
  },
  {
   "cell_type": "code",
   "execution_count": null,
   "metadata": {},
   "outputs": [],
   "source": [
    "@cross_origin()\n",
    "@app.route('/unemployee',methods=['POST'])\n",
    "def predict_unemployee_count():\n",
    "    input_arr=[]\n",
    "    input_arr.append(request.json['year'])\n",
    "    input_arr = input_arr+ list(enced_dis.loc[dis_data.index(request.json['district']),:])\n",
    "    input_arr = input_arr+ list(enced_age_cats.loc[age_cats_data.index(request.json['agecategory']),:])\n",
    "    input_arr = input_arr+ list(enced_gender_a.loc[genders_a_data.index(request.json['gender']),:])\n",
    "    \n",
    "    input_arr1=[]\n",
    "    input_arr1.append(input_arr)\n",
    "    print(request.json)\n",
    "    print(input_arr1)\n",
    "    predict_result = unemployee_model.predict(input_arr1).tolist()\n",
    "    result={\"result\":predict_result}\n",
    "    return jsonify(result)\n",
    "\n",
    "# def predict_unemployee_count():\n",
    "#     input_arr1=[[2008, 1,0,0,0,0,0,0,0,0,0,0,0,0,0,0,0,0,0,0,0,0,0,0,0,0,1,0,0,0,1]]\n",
    "#     predict_result = under_employee_model.predict(input_arr1).tolist()\n",
    "#     result={\"result\":predict_result}\n",
    "#     print(result)\n",
    "# predict_unemployee_count()"
   ]
  },
  {
   "cell_type": "code",
   "execution_count": null,
   "metadata": {},
   "outputs": [],
   "source": [
    "@cross_origin()\n",
    "@app.route('/underemployee',methods=['POST'])\n",
    "def predict_under_employee_count():\n",
    "    input_arr=[]\n",
    "    input_arr.append(request.json['year'])\n",
    "    input_arr = input_arr+ list(enced_dis.loc[dis_data.index(request.json['district']),:])\n",
    "    input_arr = input_arr+ list(enced_age_cats.loc[age_cats_data.index(request.json['agecategory']),:])\n",
    "    input_arr = input_arr+ list(enced_gender_b.loc[genders_a_data.index(request.json['gender']),:])\n",
    "    \n",
    "    input_arr1=[]\n",
    "    input_arr1.append(input_arr)\n",
    "    print(request.json)\n",
    "    print(input_arr1)\n",
    "    predict_result = under_employee_model.predict(input_arr1).tolist()\n",
    "    result={\"result\":predict_result}\n",
    "    return jsonify(result)\n",
    "\n",
    "# def predict_under_employee_count():\n",
    "#     input_arr1=[[2030, 1,0,0,0,0,0,0,0,0,0,0,0,0,0,0,0,0,0,0,0,0,0,0,0,0,1,0,0,0,1]]\n",
    "#     predict_result = under_employee_model.predict(input_arr1).tolist()\n",
    "#     result={\"result\":predict_result}\n",
    "#     print(result)\n",
    "# predict_under_employee_count()"
   ]
  },
  {
   "cell_type": "code",
   "execution_count": null,
   "metadata": {
    "scrolled": true
   },
   "outputs": [],
   "source": [
    "if __name__ == '__main__':\n",
    "    cors = CORS(app)\n",
    "    app.config['CORS_HEADERS'] = 'Content-Type'\n",
    "    app.config['EXPLAIN_TEMPLATE_LOADING'] = True\n",
    "    port = int(os.environ.get(\"PORT\", 5000))\n",
    "    app.run(host='0.0.0.0', port=port)\n",
    "    app.run()"
   ]
  }
 ],
 "metadata": {
  "kernelspec": {
   "display_name": "Python 3",
   "language": "python",
   "name": "python3"
  },
  "language_info": {
   "codemirror_mode": {
    "name": "ipython",
    "version": 3
   },
   "file_extension": ".py",
   "mimetype": "text/x-python",
   "name": "python",
   "nbconvert_exporter": "python",
   "pygments_lexer": "ipython3",
   "version": "3.7.3"
  },
  "pycharm": {
   "stem_cell": {
    "cell_type": "raw",
    "metadata": {
     "collapsed": false
    },
    "source": []
   }
  }
 },
 "nbformat": 4,
 "nbformat_minor": 2
}
