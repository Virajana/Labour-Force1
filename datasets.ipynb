{
 "cells": [
  {
   "cell_type": "code",
   "execution_count": 6,
   "metadata": {},
   "outputs": [],
   "source": [
    "import pandas as pd\n",
    "import numpy as np"
   ]
  },
  {
   "cell_type": "code",
   "execution_count": 7,
   "metadata": {},
   "outputs": [],
   "source": [
    "# read CSV file from the 'data' subdirectory using a relative path\n",
    "df = pd.read_csv('data/LFS-1997-100%-Data.csv', index_col=0)\n",
    "\n",
    "# display the first 5 rows\n",
    "df.head()\n",
    "workarr =np.array(df[\"Q3_DID_NOT_ANY_WORK\"])\n",
    "employee=[]\n",
    "unemployee=[]\n",
    "columns=[]\n",
    "for col in df:\n",
    "    columns.append(col)\n"
   ]
  },
  {
   "cell_type": "code",
   "execution_count": 10,
   "metadata": {},
   "outputs": [],
   "source": [
    "  \n",
    "    arrlst = df.values.tolist()\n",
    "    for i in range(len(df)):\n",
    "        if(workarr[i]=='1'):\n",
    "            employee.append(arrlst[i])\n",
    "        elif(workarr[i]=='2' or workarr[i]=='3'):\n",
    "            unemployee.append(arrlst[i])        \n",
    "      \n",
    "        \n",
    "\n",
    "        \n",
    "        "
   ]
  },
  {
   "cell_type": "code",
   "execution_count": 11,
   "metadata": {},
   "outputs": [],
   "source": [
    "employeeDataframe = pd.DataFrame(employee,columns=columns)\n",
    "unemployeeDataframe = pd.DataFrame(unemployee,columns=columns)\n",
    "\n",
    "employeeDataframe.to_csv('/home/lahiru/Documents/myapps/sri-lankan-labour-force-survey-ml/data/employee.csv', sep='\\t')\n",
    "unemployeeDataframe.to_csv('/home/lahiru/Documents/myapps/sri-lankan-labour-force-survey-ml/data/unemployee.csv', sep='\\t')\n"
   ]
  },
  {
   "cell_type": "code",
   "execution_count": null,
   "metadata": {},
   "outputs": [],
   "source": []
  }
 ],
 "metadata": {
  "kernelspec": {
   "display_name": "Python 3",
   "language": "python",
   "name": "python3"
  },
  "language_info": {
   "codemirror_mode": {
    "name": "ipython",
    "version": 3
   },
   "file_extension": ".py",
   "mimetype": "text/x-python",
   "name": "python",
   "nbconvert_exporter": "python",
   "pygments_lexer": "ipython3",
   "version": "3.7.3"
  },
  "pycharm": {
   "stem_cell": {
    "cell_type": "raw",
    "metadata": {
     "collapsed": false
    },
    "source": []
   }
  }
 },
 "nbformat": 4,
 "nbformat_minor": 2
}
